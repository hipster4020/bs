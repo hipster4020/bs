{
 "cells": [
  {
   "cell_type": "markdown",
   "id": "3b38d64e",
   "metadata": {},
   "source": [
    "# *Data Load*"
   ]
  },
  {
   "cell_type": "code",
   "execution_count": 1,
   "id": "336016d5",
   "metadata": {},
   "outputs": [],
   "source": [
    "import pandas as pd\n",
    "from pshmodule.utils import filemanager as fm"
   ]
  },
  {
   "cell_type": "code",
   "execution_count": 2,
   "id": "1fcc6999",
   "metadata": {},
   "outputs": [
    {
     "name": "stdout",
     "output_type": "stream",
     "text": [
      "extension : .pickle\n",
      "Loaded 396808 records from ../data/df_users_whole_info.pickle\n"
     ]
    }
   ],
   "source": [
    "df = fm.load('../data/df_users_whole_info.pickle')"
   ]
  },
  {
   "cell_type": "code",
   "execution_count": 3,
   "id": "caa8ce9a",
   "metadata": {},
   "outputs": [
    {
     "data": {
      "text/html": [
       "<div>\n",
       "<style scoped>\n",
       "    .dataframe tbody tr th:only-of-type {\n",
       "        vertical-align: middle;\n",
       "    }\n",
       "\n",
       "    .dataframe tbody tr th {\n",
       "        vertical-align: top;\n",
       "    }\n",
       "\n",
       "    .dataframe thead th {\n",
       "        text-align: right;\n",
       "    }\n",
       "</style>\n",
       "<table border=\"1\" class=\"dataframe\">\n",
       "  <thead>\n",
       "    <tr style=\"text-align: right;\">\n",
       "      <th></th>\n",
       "      <th>user_uuid</th>\n",
       "      <th>marketing_channel</th>\n",
       "      <th>sex</th>\n",
       "      <th>age_group</th>\n",
       "      <th>date_joined</th>\n",
       "      <th>os</th>\n",
       "      <th>visits</th>\n",
       "      <th>revenue</th>\n",
       "    </tr>\n",
       "  </thead>\n",
       "  <tbody>\n",
       "    <tr>\n",
       "      <th>0</th>\n",
       "      <td>05b0058df377da90c21c585649cbf415</td>\n",
       "      <td>0</td>\n",
       "      <td>0</td>\n",
       "      <td>1</td>\n",
       "      <td>4</td>\n",
       "      <td>0</td>\n",
       "      <td>23</td>\n",
       "      <td>304.0</td>\n",
       "    </tr>\n",
       "    <tr>\n",
       "      <th>1</th>\n",
       "      <td>28b7062943065c84bb902a0c1d018398</td>\n",
       "      <td>1</td>\n",
       "      <td>0</td>\n",
       "      <td>0</td>\n",
       "      <td>4</td>\n",
       "      <td>0</td>\n",
       "      <td>5</td>\n",
       "      <td>195.0</td>\n",
       "    </tr>\n",
       "    <tr>\n",
       "      <th>2</th>\n",
       "      <td>f8c30b791fbe2d6c80585b20fb6fdbe0</td>\n",
       "      <td>0</td>\n",
       "      <td>0</td>\n",
       "      <td>1</td>\n",
       "      <td>4</td>\n",
       "      <td>0</td>\n",
       "      <td>1</td>\n",
       "      <td>78.0</td>\n",
       "    </tr>\n",
       "    <tr>\n",
       "      <th>3</th>\n",
       "      <td>91cd8505d196bea35d48f4f1eacbc106</td>\n",
       "      <td>0</td>\n",
       "      <td>1</td>\n",
       "      <td>1</td>\n",
       "      <td>4</td>\n",
       "      <td>1</td>\n",
       "      <td>18</td>\n",
       "      <td>202.0</td>\n",
       "    </tr>\n",
       "    <tr>\n",
       "      <th>4</th>\n",
       "      <td>4b34dfb277abb6ad04dcf6968fe416d0</td>\n",
       "      <td>0</td>\n",
       "      <td>0</td>\n",
       "      <td>1</td>\n",
       "      <td>4</td>\n",
       "      <td>0</td>\n",
       "      <td>9</td>\n",
       "      <td>197.0</td>\n",
       "    </tr>\n",
       "  </tbody>\n",
       "</table>\n",
       "</div>"
      ],
      "text/plain": [
       "                          user_uuid  marketing_channel  sex  age_group  \\\n",
       "0  05b0058df377da90c21c585649cbf415                  0    0          1   \n",
       "1  28b7062943065c84bb902a0c1d018398                  1    0          0   \n",
       "2  f8c30b791fbe2d6c80585b20fb6fdbe0                  0    0          1   \n",
       "3  91cd8505d196bea35d48f4f1eacbc106                  0    1          1   \n",
       "4  4b34dfb277abb6ad04dcf6968fe416d0                  0    0          1   \n",
       "\n",
       "   date_joined  os  visits  revenue  \n",
       "0            4   0      23    304.0  \n",
       "1            4   0       5    195.0  \n",
       "2            4   0       1     78.0  \n",
       "3            4   1      18    202.0  \n",
       "4            4   0       9    197.0  "
      ]
     },
     "execution_count": 3,
     "metadata": {},
     "output_type": "execute_result"
    }
   ],
   "source": [
    "df.head()"
   ]
  },
  {
   "cell_type": "markdown",
   "id": "775531c9",
   "metadata": {},
   "source": [
    "# "
   ]
  },
  {
   "cell_type": "markdown",
   "id": "b678ef3b",
   "metadata": {},
   "source": [
    "# *Data Validation*"
   ]
  },
  {
   "cell_type": "code",
   "execution_count": 4,
   "id": "210d9ccc",
   "metadata": {},
   "outputs": [],
   "source": [
    "import numpy as np\n",
    "import seaborn as sns\n",
    "import matplotlib.pyplot as plt\n",
    "import scipy.stats as stats"
   ]
  },
  {
   "cell_type": "markdown",
   "id": "2c8d74cc",
   "metadata": {},
   "source": [
    "● user_uuid: 가입 회원의 (unique) id\n",
    "\n",
    "● marketing_channel\t: 회원가입 마케팅 채널 (channel_A, channel_B)\n",
    "\n",
    "● age_group: 나이대 (예시: 20-29, 30-39...)\n",
    "\n",
    "● sex: 성별 (male, female)\n",
    "\n",
    "● os: device os type (android, iOS)\n",
    "\n",
    "● date_joined: 회원가입일자 (yyyy-mm-dd 형식)\n",
    "\n",
    "● visit: 사용자가 가입일 이후부터 데이터 추출 날짜까지 앱을 방문한 총 횟수\n",
    "\n",
    "● revenue: 데이터 추출 날짜까지 사용자가 발생시킨 매출"
   ]
  },
  {
   "cell_type": "markdown",
   "id": "e4ecfd71",
   "metadata": {},
   "source": [
    "### divide by user"
   ]
  },
  {
   "cell_type": "code",
   "execution_count": 5,
   "id": "7d73ca05",
   "metadata": {},
   "outputs": [],
   "source": [
    "df_A = df[df.marketing_channel.apply(lambda x: x==0)]\n",
    "df_B = df[df.marketing_channel.apply(lambda x: x==1)]"
   ]
  },
  {
   "cell_type": "code",
   "execution_count": 6,
   "id": "022cc312",
   "metadata": {},
   "outputs": [
    {
     "name": "stdout",
     "output_type": "stream",
     "text": [
      "0    321485\n",
      "Name: marketing_channel, dtype: int64\n",
      "1    75323\n",
      "Name: marketing_channel, dtype: int64\n"
     ]
    }
   ],
   "source": [
    "print(df_A.marketing_channel.value_counts())\n",
    "print(df_B.marketing_channel.value_counts())"
   ]
  },
  {
   "cell_type": "code",
   "execution_count": 7,
   "id": "32797307",
   "metadata": {},
   "outputs": [],
   "source": [
    "revenue_A = df_A.revenue.tolist()\n",
    "revenue_B = df_B.revenue.tolist()"
   ]
  },
  {
   "cell_type": "code",
   "execution_count": 8,
   "id": "3fff4699",
   "metadata": {},
   "outputs": [
    {
     "name": "stdout",
     "output_type": "stream",
     "text": [
      "[304.0, 78.0, 202.0, 197.0, 906.0, 64.0, 49.0, 93.0, 517.0, 101.0]\n",
      "[195.0, 149.0, 825.0, 427.0, 104.0, 216.0, 89.0, 155.0, 184.0, 268.0]\n"
     ]
    }
   ],
   "source": [
    "print(revenue_A[:10])\n",
    "print(revenue_B[:10])"
   ]
  },
  {
   "cell_type": "markdown",
   "id": "8e8307c0",
   "metadata": {},
   "source": [
    "### data check"
   ]
  },
  {
   "cell_type": "code",
   "execution_count": 9,
   "id": "3a7de780",
   "metadata": {},
   "outputs": [],
   "source": [
    "array_A = np.array(revenue_A)\n",
    "array_B = np.array(revenue_B)"
   ]
  },
  {
   "cell_type": "code",
   "execution_count": 10,
   "id": "ac7cf61c",
   "metadata": {},
   "outputs": [
    {
     "data": {
      "image/png": "[encoded data removed]",
      "text/plain": [
       "<Figure size 504x360 with 1 Axes>"
      ]
     },
     "metadata": {
      "needs_background": "light"
     },
     "output_type": "display_data"
    }
   ],
   "source": [
    "plt.figure(figsize=(7, 5))\n",
    "\n",
    "sns.kdeplot(data=array_A, color='blue', shade=True)\n",
    "sns.kdeplot(data=array_B, color='red', shade=True)\n",
    "plt.show()"
   ]
  },
  {
   "cell_type": "markdown",
   "id": "8947a88d",
   "metadata": {},
   "source": [
    "### user's revenue t-test "
   ]
  },
  {
   "cell_type": "markdown",
   "id": "64c8074b",
   "metadata": {},
   "source": [
    "<b>귀무가설</b> : 마케팅 채널 A와 마케팅 채널 B의 매출액 평균의 차이가 없다.<br>"
   ]
  },
  {
   "cell_type": "code",
   "execution_count": 11,
   "id": "e7070f44",
   "metadata": {},
   "outputs": [],
   "source": [
    "mean_A = round(np.mean(revenue_A), 3)\n",
    "mean_B = round(np.mean(revenue_B), 3)\n",
    "std_A = round(np.std(revenue_A), 3)\n",
    "std_B = round(np.std(revenue_A), 3)"
   ]
  },
  {
   "cell_type": "code",
   "execution_count": 12,
   "id": "7978e689",
   "metadata": {},
   "outputs": [
    {
     "name": "stdout",
     "output_type": "stream",
     "text": [
      "mean_A : 177.702\n",
      "mean_B : 229.958\n",
      "std_A : 168.451\n",
      "std_B : 168.451\n"
     ]
    }
   ],
   "source": [
    "print(f\"mean_A : {mean_A}\")\n",
    "print(f\"mean_B : {mean_B}\")\n",
    "print(f\"std_A : {std_A}\")\n",
    "print(f\"std_B : {std_B}\")"
   ]
  },
  {
   "cell_type": "code",
   "execution_count": 15,
   "id": "213d60d5",
   "metadata": {},
   "outputs": [],
   "source": [
    "ttest = stats.ttest_ind(revenue_A, revenue_B)"
   ]
  },
  {
   "cell_type": "code",
   "execution_count": 16,
   "id": "3f1a61af",
   "metadata": {},
   "outputs": [
    {
     "data": {
      "text/plain": [
       "Ttest_indResult(statistic=-78.14289835375084, pvalue=0.0)"
      ]
     },
     "execution_count": 16,
     "metadata": {},
     "output_type": "execute_result"
    }
   ],
   "source": [
    "ttest"
   ]
  },
  {
   "cell_type": "markdown",
   "id": "f1035ed9",
   "metadata": {},
   "source": [
    "# "
   ]
  },
  {
   "cell_type": "markdown",
   "id": "5d306afd",
   "metadata": {},
   "source": [
    "# *Result*"
   ]
  },
  {
   "cell_type": "markdown",
   "id": "024c5758",
   "metadata": {},
   "source": [
    "<big><b>귀무가설</b></big>(마케팅 채널 A와 마케팅 채널 B의 매출액 평균의 차이가 없다) <big><b>기각</b></big><br>\n",
    "\n",
    "<big><b>집단 A</b></big>의 측정값(M = 177.754, SD = 168.538)은 <big><b>집단 B</b></big>의 측정값(M = 229.931, SD = 168.538)보다 통계적으로 유의미하게 낮다.<br>(t-test : 78.143, p-value : 0.0 < 0.01)"
   ]
  },
  {
   "cell_type": "markdown",
   "id": "aef135d0",
   "metadata": {},
   "source": [
    "# "
   ]
  }
 ],
 "metadata": {
  "kernelspec": {
   "display_name": "Python 3",
   "language": "python",
   "name": "python3"
  },
  "language_info": {
   "codemirror_mode": {
    "name": "ipython",
    "version": 3
   },
   "file_extension": ".py",
   "mimetype": "text/x-python",
   "name": "python",
   "nbconvert_exporter": "python",
   "pygments_lexer": "ipython3",
   "version": "3.8.10"
  }
 },
 "nbformat": 4,
 "nbformat_minor": 5
}
