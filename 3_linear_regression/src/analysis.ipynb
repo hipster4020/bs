{
 "cells": [
  {
   "cell_type": "markdown",
   "id": "ba7854c9",
   "metadata": {},
   "source": [
    "# *Data Load*"
   ]
  },
  {
   "cell_type": "code",
   "execution_count": 1,
   "id": "d3302d98",
   "metadata": {},
   "outputs": [],
   "source": [
    "import pandas as pd\n",
    "import numpy as np\n",
    "from pshmodule.utils import filemanager as fm"
   ]
  },
  {
   "cell_type": "code",
   "execution_count": 2,
   "id": "059623bc",
   "metadata": {},
   "outputs": [
    {
     "name": "stdout",
     "output_type": "stream",
     "text": [
      "extension : .pickle\n",
      "Loaded 396808 records from ../../data/df_users_whole_info.pickle\n"
     ]
    }
   ],
   "source": [
    "df = fm.load('../../data/df_users_whole_info.pickle')"
   ]
  },
  {
   "cell_type": "code",
   "execution_count": 3,
   "id": "1961d86c",
   "metadata": {},
   "outputs": [
    {
     "data": {
      "text/html": [
       "<div>\n",
       "<style scoped>\n",
       "    .dataframe tbody tr th:only-of-type {\n",
       "        vertical-align: middle;\n",
       "    }\n",
       "\n",
       "    .dataframe tbody tr th {\n",
       "        vertical-align: top;\n",
       "    }\n",
       "\n",
       "    .dataframe thead th {\n",
       "        text-align: right;\n",
       "    }\n",
       "</style>\n",
       "<table border=\"1\" class=\"dataframe\">\n",
       "  <thead>\n",
       "    <tr style=\"text-align: right;\">\n",
       "      <th></th>\n",
       "      <th>user_uuid</th>\n",
       "      <th>marketing_channel</th>\n",
       "      <th>sex</th>\n",
       "      <th>age_group</th>\n",
       "      <th>date_joined</th>\n",
       "      <th>os</th>\n",
       "      <th>visits</th>\n",
       "      <th>revenue</th>\n",
       "    </tr>\n",
       "  </thead>\n",
       "  <tbody>\n",
       "    <tr>\n",
       "      <th>0</th>\n",
       "      <td>05b0058df377da90c21c585649cbf415</td>\n",
       "      <td>0</td>\n",
       "      <td>0</td>\n",
       "      <td>1</td>\n",
       "      <td>4</td>\n",
       "      <td>0</td>\n",
       "      <td>23</td>\n",
       "      <td>304.0</td>\n",
       "    </tr>\n",
       "    <tr>\n",
       "      <th>1</th>\n",
       "      <td>28b7062943065c84bb902a0c1d018398</td>\n",
       "      <td>1</td>\n",
       "      <td>0</td>\n",
       "      <td>0</td>\n",
       "      <td>4</td>\n",
       "      <td>0</td>\n",
       "      <td>5</td>\n",
       "      <td>195.0</td>\n",
       "    </tr>\n",
       "    <tr>\n",
       "      <th>2</th>\n",
       "      <td>f8c30b791fbe2d6c80585b20fb6fdbe0</td>\n",
       "      <td>0</td>\n",
       "      <td>0</td>\n",
       "      <td>1</td>\n",
       "      <td>4</td>\n",
       "      <td>0</td>\n",
       "      <td>1</td>\n",
       "      <td>78.0</td>\n",
       "    </tr>\n",
       "    <tr>\n",
       "      <th>3</th>\n",
       "      <td>91cd8505d196bea35d48f4f1eacbc106</td>\n",
       "      <td>0</td>\n",
       "      <td>1</td>\n",
       "      <td>1</td>\n",
       "      <td>4</td>\n",
       "      <td>1</td>\n",
       "      <td>18</td>\n",
       "      <td>202.0</td>\n",
       "    </tr>\n",
       "    <tr>\n",
       "      <th>4</th>\n",
       "      <td>4b34dfb277abb6ad04dcf6968fe416d0</td>\n",
       "      <td>0</td>\n",
       "      <td>0</td>\n",
       "      <td>1</td>\n",
       "      <td>4</td>\n",
       "      <td>0</td>\n",
       "      <td>9</td>\n",
       "      <td>197.0</td>\n",
       "    </tr>\n",
       "  </tbody>\n",
       "</table>\n",
       "</div>"
      ],
      "text/plain": [
       "                          user_uuid  marketing_channel  sex  age_group  \\\n",
       "0  05b0058df377da90c21c585649cbf415                  0    0          1   \n",
       "1  28b7062943065c84bb902a0c1d018398                  1    0          0   \n",
       "2  f8c30b791fbe2d6c80585b20fb6fdbe0                  0    0          1   \n",
       "3  91cd8505d196bea35d48f4f1eacbc106                  0    1          1   \n",
       "4  4b34dfb277abb6ad04dcf6968fe416d0                  0    0          1   \n",
       "\n",
       "   date_joined  os  visits  revenue  \n",
       "0            4   0      23    304.0  \n",
       "1            4   0       5    195.0  \n",
       "2            4   0       1     78.0  \n",
       "3            4   1      18    202.0  \n",
       "4            4   0       9    197.0  "
      ]
     },
     "execution_count": 3,
     "metadata": {},
     "output_type": "execute_result"
    }
   ],
   "source": [
    "df.head()"
   ]
  },
  {
   "cell_type": "markdown",
   "id": "a48585de",
   "metadata": {},
   "source": [
    "# "
   ]
  },
  {
   "cell_type": "markdown",
   "id": "4094aa75",
   "metadata": {},
   "source": [
    "# *Value Check*"
   ]
  },
  {
   "cell_type": "code",
   "execution_count": 4,
   "id": "4515ded0",
   "metadata": {},
   "outputs": [
    {
     "data": {
      "text/html": [
       "<div>\n",
       "<style scoped>\n",
       "    .dataframe tbody tr th:only-of-type {\n",
       "        vertical-align: middle;\n",
       "    }\n",
       "\n",
       "    .dataframe tbody tr th {\n",
       "        vertical-align: top;\n",
       "    }\n",
       "\n",
       "    .dataframe thead th {\n",
       "        text-align: right;\n",
       "    }\n",
       "</style>\n",
       "<table border=\"1\" class=\"dataframe\">\n",
       "  <thead>\n",
       "    <tr style=\"text-align: right;\">\n",
       "      <th></th>\n",
       "      <th>marketing_channel</th>\n",
       "      <th>sex</th>\n",
       "      <th>age_group</th>\n",
       "      <th>date_joined</th>\n",
       "      <th>os</th>\n",
       "      <th>visits</th>\n",
       "      <th>revenue</th>\n",
       "    </tr>\n",
       "  </thead>\n",
       "  <tbody>\n",
       "    <tr>\n",
       "      <th>count</th>\n",
       "      <td>396808.000000</td>\n",
       "      <td>396808.000000</td>\n",
       "      <td>396808.000000</td>\n",
       "      <td>396808.000000</td>\n",
       "      <td>396808.000000</td>\n",
       "      <td>396808.000000</td>\n",
       "      <td>396808.000000</td>\n",
       "    </tr>\n",
       "    <tr>\n",
       "      <th>mean</th>\n",
       "      <td>0.189822</td>\n",
       "      <td>0.460230</td>\n",
       "      <td>1.043747</td>\n",
       "      <td>3.900083</td>\n",
       "      <td>0.460230</td>\n",
       "      <td>10.137593</td>\n",
       "      <td>187.621706</td>\n",
       "    </tr>\n",
       "    <tr>\n",
       "      <th>std</th>\n",
       "      <td>0.392161</td>\n",
       "      <td>0.498416</td>\n",
       "      <td>0.947321</td>\n",
       "      <td>0.337738</td>\n",
       "      <td>0.498416</td>\n",
       "      <td>9.547027</td>\n",
       "      <td>166.461532</td>\n",
       "    </tr>\n",
       "    <tr>\n",
       "      <th>min</th>\n",
       "      <td>0.000000</td>\n",
       "      <td>0.000000</td>\n",
       "      <td>0.000000</td>\n",
       "      <td>0.000000</td>\n",
       "      <td>0.000000</td>\n",
       "      <td>1.000000</td>\n",
       "      <td>3.000000</td>\n",
       "    </tr>\n",
       "    <tr>\n",
       "      <th>25%</th>\n",
       "      <td>0.000000</td>\n",
       "      <td>0.000000</td>\n",
       "      <td>0.000000</td>\n",
       "      <td>4.000000</td>\n",
       "      <td>0.000000</td>\n",
       "      <td>3.000000</td>\n",
       "      <td>83.000000</td>\n",
       "    </tr>\n",
       "    <tr>\n",
       "      <th>50%</th>\n",
       "      <td>0.000000</td>\n",
       "      <td>0.000000</td>\n",
       "      <td>1.000000</td>\n",
       "      <td>4.000000</td>\n",
       "      <td>0.000000</td>\n",
       "      <td>7.000000</td>\n",
       "      <td>142.000000</td>\n",
       "    </tr>\n",
       "    <tr>\n",
       "      <th>75%</th>\n",
       "      <td>0.000000</td>\n",
       "      <td>1.000000</td>\n",
       "      <td>2.000000</td>\n",
       "      <td>4.000000</td>\n",
       "      <td>1.000000</td>\n",
       "      <td>14.000000</td>\n",
       "      <td>237.000000</td>\n",
       "    </tr>\n",
       "    <tr>\n",
       "      <th>max</th>\n",
       "      <td>1.000000</td>\n",
       "      <td>1.000000</td>\n",
       "      <td>4.000000</td>\n",
       "      <td>4.000000</td>\n",
       "      <td>1.000000</td>\n",
       "      <td>172.000000</td>\n",
       "      <td>4623.000000</td>\n",
       "    </tr>\n",
       "  </tbody>\n",
       "</table>\n",
       "</div>"
      ],
      "text/plain": [
       "       marketing_channel            sex      age_group    date_joined  \\\n",
       "count      396808.000000  396808.000000  396808.000000  396808.000000   \n",
       "mean            0.189822       0.460230       1.043747       3.900083   \n",
       "std             0.392161       0.498416       0.947321       0.337738   \n",
       "min             0.000000       0.000000       0.000000       0.000000   \n",
       "25%             0.000000       0.000000       0.000000       4.000000   \n",
       "50%             0.000000       0.000000       1.000000       4.000000   \n",
       "75%             0.000000       1.000000       2.000000       4.000000   \n",
       "max             1.000000       1.000000       4.000000       4.000000   \n",
       "\n",
       "                  os         visits        revenue  \n",
       "count  396808.000000  396808.000000  396808.000000  \n",
       "mean        0.460230      10.137593     187.621706  \n",
       "std         0.498416       9.547027     166.461532  \n",
       "min         0.000000       1.000000       3.000000  \n",
       "25%         0.000000       3.000000      83.000000  \n",
       "50%         0.000000       7.000000     142.000000  \n",
       "75%         1.000000      14.000000     237.000000  \n",
       "max         1.000000     172.000000    4623.000000  "
      ]
     },
     "execution_count": 4,
     "metadata": {},
     "output_type": "execute_result"
    }
   ],
   "source": [
    "df.describe()"
   ]
  },
  {
   "cell_type": "code",
   "execution_count": 5,
   "id": "ed0af104",
   "metadata": {},
   "outputs": [
    {
     "data": {
      "text/html": [
       "<div>\n",
       "<style scoped>\n",
       "    .dataframe tbody tr th:only-of-type {\n",
       "        vertical-align: middle;\n",
       "    }\n",
       "\n",
       "    .dataframe tbody tr th {\n",
       "        vertical-align: top;\n",
       "    }\n",
       "\n",
       "    .dataframe thead th {\n",
       "        text-align: right;\n",
       "    }\n",
       "</style>\n",
       "<table border=\"1\" class=\"dataframe\">\n",
       "  <thead>\n",
       "    <tr style=\"text-align: right;\">\n",
       "      <th></th>\n",
       "      <th>user_uuid</th>\n",
       "      <th>marketing_channel</th>\n",
       "      <th>sex</th>\n",
       "      <th>age_group</th>\n",
       "      <th>date_joined</th>\n",
       "      <th>os</th>\n",
       "      <th>visits</th>\n",
       "      <th>revenue</th>\n",
       "    </tr>\n",
       "  </thead>\n",
       "  <tbody>\n",
       "    <tr>\n",
       "      <th>0</th>\n",
       "      <td>05b0058df377da90c21c585649cbf415</td>\n",
       "      <td>0</td>\n",
       "      <td>0</td>\n",
       "      <td>1</td>\n",
       "      <td>4</td>\n",
       "      <td>0</td>\n",
       "      <td>23</td>\n",
       "      <td>304.0</td>\n",
       "    </tr>\n",
       "    <tr>\n",
       "      <th>1</th>\n",
       "      <td>28b7062943065c84bb902a0c1d018398</td>\n",
       "      <td>1</td>\n",
       "      <td>0</td>\n",
       "      <td>0</td>\n",
       "      <td>4</td>\n",
       "      <td>0</td>\n",
       "      <td>5</td>\n",
       "      <td>195.0</td>\n",
       "    </tr>\n",
       "    <tr>\n",
       "      <th>2</th>\n",
       "      <td>f8c30b791fbe2d6c80585b20fb6fdbe0</td>\n",
       "      <td>0</td>\n",
       "      <td>0</td>\n",
       "      <td>1</td>\n",
       "      <td>4</td>\n",
       "      <td>0</td>\n",
       "      <td>1</td>\n",
       "      <td>78.0</td>\n",
       "    </tr>\n",
       "    <tr>\n",
       "      <th>3</th>\n",
       "      <td>91cd8505d196bea35d48f4f1eacbc106</td>\n",
       "      <td>0</td>\n",
       "      <td>1</td>\n",
       "      <td>1</td>\n",
       "      <td>4</td>\n",
       "      <td>1</td>\n",
       "      <td>18</td>\n",
       "      <td>202.0</td>\n",
       "    </tr>\n",
       "    <tr>\n",
       "      <th>4</th>\n",
       "      <td>4b34dfb277abb6ad04dcf6968fe416d0</td>\n",
       "      <td>0</td>\n",
       "      <td>0</td>\n",
       "      <td>1</td>\n",
       "      <td>4</td>\n",
       "      <td>0</td>\n",
       "      <td>9</td>\n",
       "      <td>197.0</td>\n",
       "    </tr>\n",
       "  </tbody>\n",
       "</table>\n",
       "</div>"
      ],
      "text/plain": [
       "                          user_uuid  marketing_channel  sex  age_group  \\\n",
       "0  05b0058df377da90c21c585649cbf415                  0    0          1   \n",
       "1  28b7062943065c84bb902a0c1d018398                  1    0          0   \n",
       "2  f8c30b791fbe2d6c80585b20fb6fdbe0                  0    0          1   \n",
       "3  91cd8505d196bea35d48f4f1eacbc106                  0    1          1   \n",
       "4  4b34dfb277abb6ad04dcf6968fe416d0                  0    0          1   \n",
       "\n",
       "   date_joined  os  visits  revenue  \n",
       "0            4   0      23    304.0  \n",
       "1            4   0       5    195.0  \n",
       "2            4   0       1     78.0  \n",
       "3            4   1      18    202.0  \n",
       "4            4   0       9    197.0  "
      ]
     },
     "execution_count": 5,
     "metadata": {},
     "output_type": "execute_result"
    }
   ],
   "source": [
    "df.head()"
   ]
  },
  {
   "cell_type": "markdown",
   "id": "2bcde194",
   "metadata": {},
   "source": [
    "# "
   ]
  },
  {
   "cell_type": "code",
   "execution_count": 6,
   "id": "3dbfad9f",
   "metadata": {},
   "outputs": [],
   "source": [
    "df.rename(columns={'visits':'target'}, inplace=True)"
   ]
  },
  {
   "cell_type": "code",
   "execution_count": 7,
   "id": "52180001",
   "metadata": {},
   "outputs": [
    {
     "data": {
      "text/html": [
       "<div>\n",
       "<style scoped>\n",
       "    .dataframe tbody tr th:only-of-type {\n",
       "        vertical-align: middle;\n",
       "    }\n",
       "\n",
       "    .dataframe tbody tr th {\n",
       "        vertical-align: top;\n",
       "    }\n",
       "\n",
       "    .dataframe thead th {\n",
       "        text-align: right;\n",
       "    }\n",
       "</style>\n",
       "<table border=\"1\" class=\"dataframe\">\n",
       "  <thead>\n",
       "    <tr style=\"text-align: right;\">\n",
       "      <th></th>\n",
       "      <th>user_uuid</th>\n",
       "      <th>marketing_channel</th>\n",
       "      <th>sex</th>\n",
       "      <th>age_group</th>\n",
       "      <th>date_joined</th>\n",
       "      <th>os</th>\n",
       "      <th>target</th>\n",
       "      <th>revenue</th>\n",
       "    </tr>\n",
       "  </thead>\n",
       "  <tbody>\n",
       "    <tr>\n",
       "      <th>0</th>\n",
       "      <td>05b0058df377da90c21c585649cbf415</td>\n",
       "      <td>0</td>\n",
       "      <td>0</td>\n",
       "      <td>1</td>\n",
       "      <td>4</td>\n",
       "      <td>0</td>\n",
       "      <td>23</td>\n",
       "      <td>304.0</td>\n",
       "    </tr>\n",
       "    <tr>\n",
       "      <th>1</th>\n",
       "      <td>28b7062943065c84bb902a0c1d018398</td>\n",
       "      <td>1</td>\n",
       "      <td>0</td>\n",
       "      <td>0</td>\n",
       "      <td>4</td>\n",
       "      <td>0</td>\n",
       "      <td>5</td>\n",
       "      <td>195.0</td>\n",
       "    </tr>\n",
       "    <tr>\n",
       "      <th>2</th>\n",
       "      <td>f8c30b791fbe2d6c80585b20fb6fdbe0</td>\n",
       "      <td>0</td>\n",
       "      <td>0</td>\n",
       "      <td>1</td>\n",
       "      <td>4</td>\n",
       "      <td>0</td>\n",
       "      <td>1</td>\n",
       "      <td>78.0</td>\n",
       "    </tr>\n",
       "    <tr>\n",
       "      <th>3</th>\n",
       "      <td>91cd8505d196bea35d48f4f1eacbc106</td>\n",
       "      <td>0</td>\n",
       "      <td>1</td>\n",
       "      <td>1</td>\n",
       "      <td>4</td>\n",
       "      <td>1</td>\n",
       "      <td>18</td>\n",
       "      <td>202.0</td>\n",
       "    </tr>\n",
       "    <tr>\n",
       "      <th>4</th>\n",
       "      <td>4b34dfb277abb6ad04dcf6968fe416d0</td>\n",
       "      <td>0</td>\n",
       "      <td>0</td>\n",
       "      <td>1</td>\n",
       "      <td>4</td>\n",
       "      <td>0</td>\n",
       "      <td>9</td>\n",
       "      <td>197.0</td>\n",
       "    </tr>\n",
       "    <tr>\n",
       "      <th>5</th>\n",
       "      <td>cca426a2b08ffba17a0bb3a6d5e704b2</td>\n",
       "      <td>0</td>\n",
       "      <td>1</td>\n",
       "      <td>2</td>\n",
       "      <td>3</td>\n",
       "      <td>1</td>\n",
       "      <td>1</td>\n",
       "      <td>906.0</td>\n",
       "    </tr>\n",
       "    <tr>\n",
       "      <th>6</th>\n",
       "      <td>feb4fa108eaf1ce3eeebf551deb2fb40</td>\n",
       "      <td>0</td>\n",
       "      <td>0</td>\n",
       "      <td>1</td>\n",
       "      <td>4</td>\n",
       "      <td>0</td>\n",
       "      <td>2</td>\n",
       "      <td>64.0</td>\n",
       "    </tr>\n",
       "    <tr>\n",
       "      <th>7</th>\n",
       "      <td>654451a4952dc807938fba26c40f0513</td>\n",
       "      <td>0</td>\n",
       "      <td>1</td>\n",
       "      <td>0</td>\n",
       "      <td>4</td>\n",
       "      <td>1</td>\n",
       "      <td>6</td>\n",
       "      <td>49.0</td>\n",
       "    </tr>\n",
       "    <tr>\n",
       "      <th>8</th>\n",
       "      <td>c07f1228891d03c5ea029366a9886be1</td>\n",
       "      <td>1</td>\n",
       "      <td>1</td>\n",
       "      <td>1</td>\n",
       "      <td>4</td>\n",
       "      <td>1</td>\n",
       "      <td>18</td>\n",
       "      <td>149.0</td>\n",
       "    </tr>\n",
       "    <tr>\n",
       "      <th>9</th>\n",
       "      <td>ce49bb23b31252c914364fcd7c48111e</td>\n",
       "      <td>1</td>\n",
       "      <td>1</td>\n",
       "      <td>3</td>\n",
       "      <td>4</td>\n",
       "      <td>1</td>\n",
       "      <td>4</td>\n",
       "      <td>825.0</td>\n",
       "    </tr>\n",
       "  </tbody>\n",
       "</table>\n",
       "</div>"
      ],
      "text/plain": [
       "                          user_uuid  marketing_channel  sex  age_group  \\\n",
       "0  05b0058df377da90c21c585649cbf415                  0    0          1   \n",
       "1  28b7062943065c84bb902a0c1d018398                  1    0          0   \n",
       "2  f8c30b791fbe2d6c80585b20fb6fdbe0                  0    0          1   \n",
       "3  91cd8505d196bea35d48f4f1eacbc106                  0    1          1   \n",
       "4  4b34dfb277abb6ad04dcf6968fe416d0                  0    0          1   \n",
       "5  cca426a2b08ffba17a0bb3a6d5e704b2                  0    1          2   \n",
       "6  feb4fa108eaf1ce3eeebf551deb2fb40                  0    0          1   \n",
       "7  654451a4952dc807938fba26c40f0513                  0    1          0   \n",
       "8  c07f1228891d03c5ea029366a9886be1                  1    1          1   \n",
       "9  ce49bb23b31252c914364fcd7c48111e                  1    1          3   \n",
       "\n",
       "   date_joined  os  target  revenue  \n",
       "0            4   0      23    304.0  \n",
       "1            4   0       5    195.0  \n",
       "2            4   0       1     78.0  \n",
       "3            4   1      18    202.0  \n",
       "4            4   0       9    197.0  \n",
       "5            3   1       1    906.0  \n",
       "6            4   0       2     64.0  \n",
       "7            4   1       6     49.0  \n",
       "8            4   1      18    149.0  \n",
       "9            4   1       4    825.0  "
      ]
     },
     "execution_count": 7,
     "metadata": {},
     "output_type": "execute_result"
    }
   ],
   "source": [
    "df.head(10)"
   ]
  },
  {
   "cell_type": "markdown",
   "id": "90e22908",
   "metadata": {},
   "source": [
    "# "
   ]
  },
  {
   "cell_type": "markdown",
   "id": "30d76013",
   "metadata": {},
   "source": [
    "# *Data Split*"
   ]
  },
  {
   "cell_type": "code",
   "execution_count": 8,
   "id": "bd7da464",
   "metadata": {},
   "outputs": [],
   "source": [
    "from sklearn.model_selection import train_test_split"
   ]
  },
  {
   "cell_type": "code",
   "execution_count": 9,
   "id": "660c4078",
   "metadata": {},
   "outputs": [],
   "source": [
    "x = df[['marketing_channel', 'sex', 'age_group', 'date_joined', 'os', 'revenue']]\n",
    "y = df[['target']]"
   ]
  },
  {
   "cell_type": "code",
   "execution_count": 10,
   "id": "060e1659",
   "metadata": {},
   "outputs": [],
   "source": [
    "X_train, X_test, y_train, y_test = train_test_split(x, y, train_size=0.8, test_size=0.2)"
   ]
  },
  {
   "cell_type": "markdown",
   "id": "612d80ed",
   "metadata": {},
   "source": [
    "# "
   ]
  },
  {
   "cell_type": "markdown",
   "id": "88ebba46",
   "metadata": {},
   "source": [
    "# *회귀분석*"
   ]
  },
  {
   "cell_type": "code",
   "execution_count": 11,
   "id": "33f0ee53",
   "metadata": {},
   "outputs": [],
   "source": [
    "import matplotlib.pyplot as plt\n",
    "from sklearn.linear_model import LinearRegression"
   ]
  },
  {
   "cell_type": "code",
   "execution_count": 12,
   "id": "6132a099",
   "metadata": {},
   "outputs": [],
   "source": [
    "mlr = LinearRegression()"
   ]
  },
  {
   "cell_type": "code",
   "execution_count": 13,
   "id": "c5cac230",
   "metadata": {},
   "outputs": [
    {
     "data": {
      "text/plain": [
       "LinearRegression()"
      ]
     },
     "execution_count": 13,
     "metadata": {},
     "output_type": "execute_result"
    }
   ],
   "source": [
    "mlr.fit(X_train, y_train)"
   ]
  },
  {
   "cell_type": "code",
   "execution_count": 14,
   "id": "82169d25",
   "metadata": {},
   "outputs": [],
   "source": [
    "y_pred = mlr.predict(X_test)"
   ]
  },
  {
   "cell_type": "code",
   "execution_count": 15,
   "id": "0f2f5e61",
   "metadata": {},
   "outputs": [
    {
     "data": {
      "text/plain": [
       "array([[ 9.97336489],\n",
       "       [ 9.97627465],\n",
       "       [ 9.97622417],\n",
       "       [10.68939849],\n",
       "       [ 9.97623218],\n",
       "       [10.00883811],\n",
       "       [10.72129545],\n",
       "       [ 9.97629496],\n",
       "       [10.05111809],\n",
       "       [10.00878517]])"
      ]
     },
     "execution_count": 15,
     "metadata": {},
     "output_type": "execute_result"
    }
   ],
   "source": [
    "y_pred[:10]"
   ]
  },
  {
   "cell_type": "code",
   "execution_count": 16,
   "id": "15bc6652",
   "metadata": {},
   "outputs": [
    {
     "data": {
      "image/png": "[encoded data removed]",
      "text/plain": [
       "<Figure size 432x288 with 1 Axes>"
      ]
     },
     "metadata": {
      "needs_background": "light"
     },
     "output_type": "display_data"
    }
   ],
   "source": [
    "plt.scatter(y_test, y_pred, alpha=0.4)\n",
    "plt.xlabel(\"Actual Rent\")\n",
    "plt.ylabel(\"Predicted Rent\")\n",
    "plt.title(\"MULTIPLE LINEAR REGRESSION\")\n",
    "plt.show()"
   ]
  },
  {
   "cell_type": "markdown",
   "id": "39d83430",
   "metadata": {},
   "source": [
    "# "
   ]
  },
  {
   "cell_type": "markdown",
   "id": "3aed0a76",
   "metadata": {},
   "source": [
    "# *회귀분석*"
   ]
  },
  {
   "cell_type": "markdown",
   "id": "fc69b4c7",
   "metadata": {},
   "source": [
    "### 가설\n",
    "독립 변수 x 갯수 : 6<br><br>\n",
    "<b>H(x) = w1x1 + w2x2 + w3x3 + w4x4 + w5x5 + w6x6 + b</b>"
   ]
  },
  {
   "cell_type": "code",
   "execution_count": 17,
   "id": "a649f8c7",
   "metadata": {},
   "outputs": [],
   "source": [
    "import numpy as np\n",
    "import matplotlib.pyplot as plt\n",
    "import statsmodels.formula.api as sm"
   ]
  },
  {
   "cell_type": "code",
   "execution_count": 18,
   "id": "f5141ded",
   "metadata": {},
   "outputs": [],
   "source": [
    "result = sm.ols(formula = 'target ~ marketing_channel + sex + age_group + date_joined + os + revenue',\n",
    "                data = df).fit()"
   ]
  },
  {
   "cell_type": "code",
   "execution_count": 19,
   "id": "74fdf5d8",
   "metadata": {},
   "outputs": [
    {
     "data": {
      "text/html": [
       "<table class=\"simpletable\">\n",
       "<caption>OLS Regression Results</caption>\n",
       "<tr>\n",
       "  <th>Dep. Variable:</th>         <td>target</td>      <th>  R-squared:         </th>  <td>   0.001</td>  \n",
       "</tr>\n",
       "<tr>\n",
       "  <th>Model:</th>                   <td>OLS</td>       <th>  Adj. R-squared:    </th>  <td>   0.001</td>  \n",
       "</tr>\n",
       "<tr>\n",
       "  <th>Method:</th>             <td>Least Squares</td>  <th>  F-statistic:       </th>  <td>   68.56</td>  \n",
       "</tr>\n",
       "<tr>\n",
       "  <th>Date:</th>             <td>Sun, 07 Aug 2022</td> <th>  Prob (F-statistic):</th>  <td>6.69e-72</td>  \n",
       "</tr>\n",
       "<tr>\n",
       "  <th>Time:</th>                 <td>00:11:55</td>     <th>  Log-Likelihood:    </th> <td>-1.4582e+06</td>\n",
       "</tr>\n",
       "<tr>\n",
       "  <th>No. Observations:</th>      <td>396808</td>      <th>  AIC:               </th>  <td>2.916e+06</td> \n",
       "</tr>\n",
       "<tr>\n",
       "  <th>Df Residuals:</th>          <td>396802</td>      <th>  BIC:               </th>  <td>2.916e+06</td> \n",
       "</tr>\n",
       "<tr>\n",
       "  <th>Df Model:</th>              <td>     5</td>      <th>                     </th>      <td> </td>     \n",
       "</tr>\n",
       "<tr>\n",
       "  <th>Covariance Type:</th>      <td>nonrobust</td>    <th>                     </th>      <td> </td>     \n",
       "</tr>\n",
       "</table>\n",
       "<table class=\"simpletable\">\n",
       "<tr>\n",
       "          <td></td>             <th>coef</th>     <th>std err</th>      <th>t</th>      <th>P>|t|</th>  <th>[0.025</th>    <th>0.975]</th>  \n",
       "</tr>\n",
       "<tr>\n",
       "  <th>Intercept</th>         <td>   10.1698</td> <td>    0.178</td> <td>   57.086</td> <td> 0.000</td> <td>    9.821</td> <td>   10.519</td>\n",
       "</tr>\n",
       "<tr>\n",
       "  <th>marketing_channel</th> <td>    0.7186</td> <td>    0.039</td> <td>   18.340</td> <td> 0.000</td> <td>    0.642</td> <td>    0.795</td>\n",
       "</tr>\n",
       "<tr>\n",
       "  <th>sex</th>               <td>   -0.0167</td> <td>    0.015</td> <td>   -1.101</td> <td> 0.271</td> <td>   -0.047</td> <td>    0.013</td>\n",
       "</tr>\n",
       "<tr>\n",
       "  <th>age_group</th>         <td>   -0.0072</td> <td>    0.016</td> <td>   -0.451</td> <td> 0.652</td> <td>   -0.039</td> <td>    0.024</td>\n",
       "</tr>\n",
       "<tr>\n",
       "  <th>date_joined</th>       <td>   -0.0353</td> <td>    0.045</td> <td>   -0.782</td> <td> 0.434</td> <td>   -0.124</td> <td>    0.053</td>\n",
       "</tr>\n",
       "<tr>\n",
       "  <th>os</th>                <td>   -0.0167</td> <td>    0.015</td> <td>   -1.101</td> <td> 0.271</td> <td>   -0.047</td> <td>    0.013</td>\n",
       "</tr>\n",
       "<tr>\n",
       "  <th>revenue</th>           <td>-4.243e-05</td> <td> 9.17e-05</td> <td>   -0.463</td> <td> 0.644</td> <td>   -0.000</td> <td>    0.000</td>\n",
       "</tr>\n",
       "</table>\n",
       "<table class=\"simpletable\">\n",
       "<tr>\n",
       "  <th>Omnibus:</th>       <td>167976.345</td> <th>  Durbin-Watson:     </th>  <td>   2.004</td> \n",
       "</tr>\n",
       "<tr>\n",
       "  <th>Prob(Omnibus):</th>   <td> 0.000</td>   <th>  Jarque-Bera (JB):  </th> <td>895425.378</td>\n",
       "</tr>\n",
       "<tr>\n",
       "  <th>Skew:</th>            <td> 2.005</td>   <th>  Prob(JB):          </th>  <td>    0.00</td> \n",
       "</tr>\n",
       "<tr>\n",
       "  <th>Kurtosis:</th>        <td> 9.170</td>   <th>  Cond. No.          </th>  <td>7.59e+16</td> \n",
       "</tr>\n",
       "</table><br/><br/>Notes:<br/>[1] Standard Errors assume that the covariance matrix of the errors is correctly specified.<br/>[2] The smallest eigenvalue is 4.33e-24. This might indicate that there are<br/>strong multicollinearity problems or that the design matrix is singular."
      ],
      "text/plain": [
       "<class 'statsmodels.iolib.summary.Summary'>\n",
       "\"\"\"\n",
       "                            OLS Regression Results                            \n",
       "==============================================================================\n",
       "Dep. Variable:                 target   R-squared:                       0.001\n",
       "Model:                            OLS   Adj. R-squared:                  0.001\n",
       "Method:                 Least Squares   F-statistic:                     68.56\n",
       "Date:                Sun, 07 Aug 2022   Prob (F-statistic):           6.69e-72\n",
       "Time:                        00:11:55   Log-Likelihood:            -1.4582e+06\n",
       "No. Observations:              396808   AIC:                         2.916e+06\n",
       "Df Residuals:                  396802   BIC:                         2.916e+06\n",
       "Df Model:                           5                                         \n",
       "Covariance Type:            nonrobust                                         \n",
       "=====================================================================================\n",
       "                        coef    std err          t      P>|t|      [0.025      0.975]\n",
       "-------------------------------------------------------------------------------------\n",
       "Intercept            10.1698      0.178     57.086      0.000       9.821      10.519\n",
       "marketing_channel     0.7186      0.039     18.340      0.000       0.642       0.795\n",
       "sex                  -0.0167      0.015     -1.101      0.271      -0.047       0.013\n",
       "age_group            -0.0072      0.016     -0.451      0.652      -0.039       0.024\n",
       "date_joined          -0.0353      0.045     -0.782      0.434      -0.124       0.053\n",
       "os                   -0.0167      0.015     -1.101      0.271      -0.047       0.013\n",
       "revenue           -4.243e-05   9.17e-05     -0.463      0.644      -0.000       0.000\n",
       "==============================================================================\n",
       "Omnibus:                   167976.345   Durbin-Watson:                   2.004\n",
       "Prob(Omnibus):                  0.000   Jarque-Bera (JB):           895425.378\n",
       "Skew:                           2.005   Prob(JB):                         0.00\n",
       "Kurtosis:                       9.170   Cond. No.                     7.59e+16\n",
       "==============================================================================\n",
       "\n",
       "Notes:\n",
       "[1] Standard Errors assume that the covariance matrix of the errors is correctly specified.\n",
       "[2] The smallest eigenvalue is 4.33e-24. This might indicate that there are\n",
       "strong multicollinearity problems or that the design matrix is singular.\n",
       "\"\"\""
      ]
     },
     "execution_count": 19,
     "metadata": {},
     "output_type": "execute_result"
    }
   ],
   "source": [
    "result.summary()"
   ]
  },
  {
   "cell_type": "code",
   "execution_count": 20,
   "id": "1f6a1829",
   "metadata": {},
   "outputs": [],
   "source": [
    "pred = result.predict()"
   ]
  },
  {
   "cell_type": "code",
   "execution_count": 21,
   "id": "fae6b492",
   "metadata": {},
   "outputs": [],
   "source": [
    "ag = np.array(df.age_group.tolist())\n",
    "target = np.array(df.target.tolist())"
   ]
  },
  {
   "cell_type": "code",
   "execution_count": 22,
   "id": "1ec0f3b7",
   "metadata": {},
   "outputs": [
    {
     "name": "stderr",
     "output_type": "stream",
     "text": [
      "findfont: Font family ['Arial'] not found. Falling back to DejaVu Sans.\n"
     ]
    },
    {
     "data": {
      "image/png": "[encoded data removed]",
      "text/plain": [
       "<Figure size 432x288 with 1 Axes>"
      ]
     },
     "metadata": {
      "needs_background": "light"
     },
     "output_type": "display_data"
    }
   ],
   "source": [
    "plt.yticks(fontname = \"Arial\")\n",
    "plt.scatter(ag, target, label=\"data\")\n",
    "plt.plot(ag, pred, label=\"result\")\n",
    "plt.legend()\n",
    "plt.show()"
   ]
  },
  {
   "cell_type": "markdown",
   "id": "93cf42ac",
   "metadata": {},
   "source": [
    "# "
   ]
  },
  {
   "cell_type": "markdown",
   "id": "e7392e85",
   "metadata": {},
   "source": [
    "### 데이터 불균형으로 회귀식  성립이 되지 않는 것으로 판단되어 각 범위를 40 크기로 세팅"
   ]
  },
  {
   "cell_type": "markdown",
   "id": "cdac7547",
   "metadata": {},
   "source": [
    "### data cleansing\n",
    "age_group: 0  visits: 40~80<br>\n",
    "age_group: 1  visits: 30~70<br>\n",
    "age_group: 2  visits: 20~60<br>\n",
    "age_group: 3  visits: 10~50<br>\n",
    "age_group: 4  visits: ~40"
   ]
  },
  {
   "cell_type": "code",
   "execution_count": 23,
   "id": "ab9f6a3d",
   "metadata": {},
   "outputs": [],
   "source": [
    "df_0 = df[df.age_group.apply(lambda x: x==0)]\n",
    "df_1 = df[df.age_group.apply(lambda x: x==1)]\n",
    "df_2 = df[df.age_group.apply(lambda x: x==2)]\n",
    "df_3 = df[df.age_group.apply(lambda x: x==3)]\n",
    "df_4 = df[df.age_group.apply(lambda x: x==4)]"
   ]
  },
  {
   "cell_type": "code",
   "execution_count": 24,
   "id": "0029a08e",
   "metadata": {},
   "outputs": [],
   "source": [
    "df_0 = df_0[df_0.target.apply(lambda x: x>=40 and x<= 80)]\n",
    "df_1 = df_1[df_1.target.apply(lambda x: x>=30 and x<= 70)]\n",
    "df_2 = df_2[df_2.target.apply(lambda x: x>=20 and x<= 60)]\n",
    "df_3 = df_3[df_3.target.apply(lambda x: x>=10 and x<= 50)]\n",
    "df_4 = df_4[df_4.target.apply(lambda x: x>=0 and x<= 40)]"
   ]
  },
  {
   "cell_type": "code",
   "execution_count": 25,
   "id": "07d78c18",
   "metadata": {},
   "outputs": [],
   "source": [
    "df = pd.concat([df_0, df_1, df_2, df_3, df_4])"
   ]
  },
  {
   "cell_type": "markdown",
   "id": "85c636af",
   "metadata": {},
   "source": [
    "# "
   ]
  },
  {
   "cell_type": "markdown",
   "id": "2840720d",
   "metadata": {},
   "source": [
    "### 가설\n",
    "독립 변수 x 갯수 : 6<br><br>\n",
    "<b>H(x) = w1x1 + w2x2 + w3x3 + w4x4 + w5x5 + w6x6 + b</b>"
   ]
  },
  {
   "cell_type": "code",
   "execution_count": 26,
   "id": "6ac3698b",
   "metadata": {},
   "outputs": [],
   "source": [
    "result = sm.ols(formula = 'target ~ marketing_channel + sex + age_group + date_joined + os + revenue',\n",
    "                data = df).fit()"
   ]
  },
  {
   "cell_type": "code",
   "execution_count": 27,
   "id": "b9d5c4b1",
   "metadata": {},
   "outputs": [
    {
     "data": {
      "text/html": [
       "<table class=\"simpletable\">\n",
       "<caption>OLS Regression Results</caption>\n",
       "<tr>\n",
       "  <th>Dep. Variable:</th>         <td>target</td>      <th>  R-squared:         </th>  <td>   0.628</td>  \n",
       "</tr>\n",
       "<tr>\n",
       "  <th>Model:</th>                   <td>OLS</td>       <th>  Adj. R-squared:    </th>  <td>   0.628</td>  \n",
       "</tr>\n",
       "<tr>\n",
       "  <th>Method:</th>             <td>Least Squares</td>  <th>  F-statistic:       </th>  <td>1.182e+04</td> \n",
       "</tr>\n",
       "<tr>\n",
       "  <th>Date:</th>             <td>Sun, 07 Aug 2022</td> <th>  Prob (F-statistic):</th>   <td>  0.00</td>   \n",
       "</tr>\n",
       "<tr>\n",
       "  <th>Time:</th>                 <td>00:12:05</td>     <th>  Log-Likelihood:    </th> <td>-1.2358e+05</td>\n",
       "</tr>\n",
       "<tr>\n",
       "  <th>No. Observations:</th>      <td> 35048</td>      <th>  AIC:               </th>  <td>2.472e+05</td> \n",
       "</tr>\n",
       "<tr>\n",
       "  <th>Df Residuals:</th>          <td> 35042</td>      <th>  BIC:               </th>  <td>2.472e+05</td> \n",
       "</tr>\n",
       "<tr>\n",
       "  <th>Df Model:</th>              <td>     5</td>      <th>                     </th>      <td> </td>     \n",
       "</tr>\n",
       "<tr>\n",
       "  <th>Covariance Type:</th>      <td>nonrobust</td>    <th>                     </th>      <td> </td>     \n",
       "</tr>\n",
       "</table>\n",
       "<table class=\"simpletable\">\n",
       "<tr>\n",
       "          <td></td>             <th>coef</th>     <th>std err</th>      <th>t</th>      <th>P>|t|</th>  <th>[0.025</th>    <th>0.975]</th>  \n",
       "</tr>\n",
       "<tr>\n",
       "  <th>Intercept</th>         <td>   48.2095</td> <td>    0.521</td> <td>   92.580</td> <td> 0.000</td> <td>   47.189</td> <td>   49.230</td>\n",
       "</tr>\n",
       "<tr>\n",
       "  <th>marketing_channel</th> <td>    0.2089</td> <td>    0.111</td> <td>    1.885</td> <td> 0.059</td> <td>   -0.008</td> <td>    0.426</td>\n",
       "</tr>\n",
       "<tr>\n",
       "  <th>sex</th>               <td>   -0.0134</td> <td>    0.044</td> <td>   -0.303</td> <td> 0.762</td> <td>   -0.100</td> <td>    0.073</td>\n",
       "</tr>\n",
       "<tr>\n",
       "  <th>age_group</th>         <td>   -9.8217</td> <td>    0.040</td> <td> -243.112</td> <td> 0.000</td> <td>   -9.901</td> <td>   -9.743</td>\n",
       "</tr>\n",
       "<tr>\n",
       "  <th>date_joined</th>       <td>    0.0033</td> <td>    0.131</td> <td>    0.025</td> <td> 0.980</td> <td>   -0.253</td> <td>    0.260</td>\n",
       "</tr>\n",
       "<tr>\n",
       "  <th>os</th>                <td>   -0.0134</td> <td>    0.044</td> <td>   -0.303</td> <td> 0.762</td> <td>   -0.100</td> <td>    0.073</td>\n",
       "</tr>\n",
       "<tr>\n",
       "  <th>revenue</th>           <td>-2.576e-05</td> <td>    0.000</td> <td>   -0.095</td> <td> 0.924</td> <td>   -0.001</td> <td>    0.001</td>\n",
       "</tr>\n",
       "</table>\n",
       "<table class=\"simpletable\">\n",
       "<tr>\n",
       "  <th>Omnibus:</th>       <td>7278.527</td> <th>  Durbin-Watson:     </th> <td>   2.012</td> \n",
       "</tr>\n",
       "<tr>\n",
       "  <th>Prob(Omnibus):</th>  <td> 0.000</td>  <th>  Jarque-Bera (JB):  </th> <td>13217.101</td>\n",
       "</tr>\n",
       "<tr>\n",
       "  <th>Skew:</th>           <td> 1.324</td>  <th>  Prob(JB):          </th> <td>    0.00</td> \n",
       "</tr>\n",
       "<tr>\n",
       "  <th>Kurtosis:</th>       <td> 4.426</td>  <th>  Cond. No.          </th> <td>8.76e+16</td> \n",
       "</tr>\n",
       "</table><br/><br/>Notes:<br/>[1] Standard Errors assume that the covariance matrix of the errors is correctly specified.<br/>[2] The smallest eigenvalue is 2.84e-25. This might indicate that there are<br/>strong multicollinearity problems or that the design matrix is singular."
      ],
      "text/plain": [
       "<class 'statsmodels.iolib.summary.Summary'>\n",
       "\"\"\"\n",
       "                            OLS Regression Results                            \n",
       "==============================================================================\n",
       "Dep. Variable:                 target   R-squared:                       0.628\n",
       "Model:                            OLS   Adj. R-squared:                  0.628\n",
       "Method:                 Least Squares   F-statistic:                 1.182e+04\n",
       "Date:                Sun, 07 Aug 2022   Prob (F-statistic):               0.00\n",
       "Time:                        00:12:05   Log-Likelihood:            -1.2358e+05\n",
       "No. Observations:               35048   AIC:                         2.472e+05\n",
       "Df Residuals:                   35042   BIC:                         2.472e+05\n",
       "Df Model:                           5                                         \n",
       "Covariance Type:            nonrobust                                         \n",
       "=====================================================================================\n",
       "                        coef    std err          t      P>|t|      [0.025      0.975]\n",
       "-------------------------------------------------------------------------------------\n",
       "Intercept            48.2095      0.521     92.580      0.000      47.189      49.230\n",
       "marketing_channel     0.2089      0.111      1.885      0.059      -0.008       0.426\n",
       "sex                  -0.0134      0.044     -0.303      0.762      -0.100       0.073\n",
       "age_group            -9.8217      0.040   -243.112      0.000      -9.901      -9.743\n",
       "date_joined           0.0033      0.131      0.025      0.980      -0.253       0.260\n",
       "os                   -0.0134      0.044     -0.303      0.762      -0.100       0.073\n",
       "revenue           -2.576e-05      0.000     -0.095      0.924      -0.001       0.001\n",
       "==============================================================================\n",
       "Omnibus:                     7278.527   Durbin-Watson:                   2.012\n",
       "Prob(Omnibus):                  0.000   Jarque-Bera (JB):            13217.101\n",
       "Skew:                           1.324   Prob(JB):                         0.00\n",
       "Kurtosis:                       4.426   Cond. No.                     8.76e+16\n",
       "==============================================================================\n",
       "\n",
       "Notes:\n",
       "[1] Standard Errors assume that the covariance matrix of the errors is correctly specified.\n",
       "[2] The smallest eigenvalue is 2.84e-25. This might indicate that there are\n",
       "strong multicollinearity problems or that the design matrix is singular.\n",
       "\"\"\""
      ]
     },
     "execution_count": 27,
     "metadata": {},
     "output_type": "execute_result"
    }
   ],
   "source": [
    "result.summary()"
   ]
  },
  {
   "cell_type": "markdown",
   "id": "3b572943",
   "metadata": {},
   "source": [
    "# "
   ]
  },
  {
   "cell_type": "markdown",
   "id": "eb7dbea9",
   "metadata": {},
   "source": [
    "### 가설\n",
    "독립 변수 x : marketing_channel, age_group<br><br>\n",
    "<b>H(x) = w1x1 + w2x2 + b</b>"
   ]
  },
  {
   "cell_type": "code",
   "execution_count": 28,
   "id": "da3fb30f",
   "metadata": {},
   "outputs": [],
   "source": [
    "result = sm.ols(formula = 'target ~ marketing_channel + age_group',\n",
    "                data = df).fit()"
   ]
  },
  {
   "cell_type": "code",
   "execution_count": 29,
   "id": "09c7a0ee",
   "metadata": {},
   "outputs": [
    {
     "data": {
      "text/html": [
       "<table class=\"simpletable\">\n",
       "<caption>OLS Regression Results</caption>\n",
       "<tr>\n",
       "  <th>Dep. Variable:</th>         <td>target</td>      <th>  R-squared:         </th>  <td>   0.628</td>  \n",
       "</tr>\n",
       "<tr>\n",
       "  <th>Model:</th>                   <td>OLS</td>       <th>  Adj. R-squared:    </th>  <td>   0.628</td>  \n",
       "</tr>\n",
       "<tr>\n",
       "  <th>Method:</th>             <td>Least Squares</td>  <th>  F-statistic:       </th>  <td>2.956e+04</td> \n",
       "</tr>\n",
       "<tr>\n",
       "  <th>Date:</th>             <td>Sun, 07 Aug 2022</td> <th>  Prob (F-statistic):</th>   <td>  0.00</td>   \n",
       "</tr>\n",
       "<tr>\n",
       "  <th>Time:</th>                 <td>00:12:39</td>     <th>  Log-Likelihood:    </th> <td>-1.2358e+05</td>\n",
       "</tr>\n",
       "<tr>\n",
       "  <th>No. Observations:</th>      <td> 35048</td>      <th>  AIC:               </th>  <td>2.472e+05</td> \n",
       "</tr>\n",
       "<tr>\n",
       "  <th>Df Residuals:</th>          <td> 35045</td>      <th>  BIC:               </th>  <td>2.472e+05</td> \n",
       "</tr>\n",
       "<tr>\n",
       "  <th>Df Model:</th>              <td>     2</td>      <th>                     </th>      <td> </td>     \n",
       "</tr>\n",
       "<tr>\n",
       "  <th>Covariance Type:</th>      <td>nonrobust</td>    <th>                     </th>      <td> </td>     \n",
       "</tr>\n",
       "</table>\n",
       "<table class=\"simpletable\">\n",
       "<tr>\n",
       "          <td></td>             <th>coef</th>     <th>std err</th>      <th>t</th>      <th>P>|t|</th>  <th>[0.025</th>    <th>0.975]</th>  \n",
       "</tr>\n",
       "<tr>\n",
       "  <th>Intercept</th>         <td>   48.2054</td> <td>    0.102</td> <td>  472.764</td> <td> 0.000</td> <td>   48.006</td> <td>   48.405</td>\n",
       "</tr>\n",
       "<tr>\n",
       "  <th>marketing_channel</th> <td>    0.2080</td> <td>    0.109</td> <td>    1.906</td> <td> 0.057</td> <td>   -0.006</td> <td>    0.422</td>\n",
       "</tr>\n",
       "<tr>\n",
       "  <th>age_group</th>         <td>   -9.8216</td> <td>    0.040</td> <td> -243.141</td> <td> 0.000</td> <td>   -9.901</td> <td>   -9.742</td>\n",
       "</tr>\n",
       "</table>\n",
       "<table class=\"simpletable\">\n",
       "<tr>\n",
       "  <th>Omnibus:</th>       <td>7278.849</td> <th>  Durbin-Watson:     </th> <td>   2.012</td> \n",
       "</tr>\n",
       "<tr>\n",
       "  <th>Prob(Omnibus):</th>  <td> 0.000</td>  <th>  Jarque-Bera (JB):  </th> <td>13218.108</td>\n",
       "</tr>\n",
       "<tr>\n",
       "  <th>Skew:</th>           <td> 1.325</td>  <th>  Prob(JB):          </th> <td>    0.00</td> \n",
       "</tr>\n",
       "<tr>\n",
       "  <th>Kurtosis:</th>       <td> 4.426</td>  <th>  Cond. No.          </th> <td>    7.12</td> \n",
       "</tr>\n",
       "</table><br/><br/>Notes:<br/>[1] Standard Errors assume that the covariance matrix of the errors is correctly specified."
      ],
      "text/plain": [
       "<class 'statsmodels.iolib.summary.Summary'>\n",
       "\"\"\"\n",
       "                            OLS Regression Results                            \n",
       "==============================================================================\n",
       "Dep. Variable:                 target   R-squared:                       0.628\n",
       "Model:                            OLS   Adj. R-squared:                  0.628\n",
       "Method:                 Least Squares   F-statistic:                 2.956e+04\n",
       "Date:                Sun, 07 Aug 2022   Prob (F-statistic):               0.00\n",
       "Time:                        00:12:39   Log-Likelihood:            -1.2358e+05\n",
       "No. Observations:               35048   AIC:                         2.472e+05\n",
       "Df Residuals:                   35045   BIC:                         2.472e+05\n",
       "Df Model:                           2                                         \n",
       "Covariance Type:            nonrobust                                         \n",
       "=====================================================================================\n",
       "                        coef    std err          t      P>|t|      [0.025      0.975]\n",
       "-------------------------------------------------------------------------------------\n",
       "Intercept            48.2054      0.102    472.764      0.000      48.006      48.405\n",
       "marketing_channel     0.2080      0.109      1.906      0.057      -0.006       0.422\n",
       "age_group            -9.8216      0.040   -243.141      0.000      -9.901      -9.742\n",
       "==============================================================================\n",
       "Omnibus:                     7278.849   Durbin-Watson:                   2.012\n",
       "Prob(Omnibus):                  0.000   Jarque-Bera (JB):            13218.108\n",
       "Skew:                           1.325   Prob(JB):                         0.00\n",
       "Kurtosis:                       4.426   Cond. No.                         7.12\n",
       "==============================================================================\n",
       "\n",
       "Notes:\n",
       "[1] Standard Errors assume that the covariance matrix of the errors is correctly specified.\n",
       "\"\"\""
      ]
     },
     "execution_count": 29,
     "metadata": {},
     "output_type": "execute_result"
    }
   ],
   "source": [
    "result.summary()"
   ]
  },
  {
   "cell_type": "code",
   "execution_count": 30,
   "id": "d7949b23",
   "metadata": {},
   "outputs": [],
   "source": [
    "pred = result.predict()"
   ]
  },
  {
   "cell_type": "code",
   "execution_count": 31,
   "id": "bbc70ea1",
   "metadata": {},
   "outputs": [],
   "source": [
    "dj = np.array(df.age_group.tolist())\n",
    "target = np.array(df.target.tolist())"
   ]
  },
  {
   "cell_type": "code",
   "execution_count": 32,
   "id": "89136261",
   "metadata": {},
   "outputs": [
    {
     "data": {
      "image/png": "[encoded data removed]",
      "text/plain": [
       "<Figure size 432x288 with 1 Axes>"
      ]
     },
     "metadata": {
      "needs_background": "light"
     },
     "output_type": "display_data"
    }
   ],
   "source": [
    "plt.yticks(fontname = \"Arial\")\n",
    "plt.scatter(dj, target, label=\"data\")\n",
    "plt.plot(dj, pred, label=\"result\")\n",
    "plt.legend()\n",
    "plt.show()"
   ]
  },
  {
   "cell_type": "markdown",
   "id": "e2c7cf2c",
   "metadata": {},
   "source": [
    "# "
   ]
  },
  {
   "cell_type": "markdown",
   "id": "4f917d13",
   "metadata": {},
   "source": [
    "# *Data Save*"
   ]
  },
  {
   "cell_type": "code",
   "execution_count": 33,
   "id": "206de3a5",
   "metadata": {},
   "outputs": [],
   "source": [
    "df = df[['age_group', 'target']]"
   ]
  },
  {
   "cell_type": "code",
   "execution_count": 34,
   "id": "74fed5b6",
   "metadata": {},
   "outputs": [
    {
     "name": "stdout",
     "output_type": "stream",
     "text": [
      "Saved 35048 records\n"
     ]
    }
   ],
   "source": [
    "fm.save('../../data/df_regression_2.pickle', df)"
   ]
  },
  {
   "cell_type": "code",
   "execution_count": null,
   "id": "c1030851",
   "metadata": {},
   "outputs": [],
   "source": []
  }
 ],
 "metadata": {
  "kernelspec": {
   "display_name": "Python 3",
   "language": "python",
   "name": "python3"
  },
  "language_info": {
   "codemirror_mode": {
    "name": "ipython",
    "version": 3
   },
   "file_extension": ".py",
   "mimetype": "text/x-python",
   "name": "python",
   "nbconvert_exporter": "python",
   "pygments_lexer": "ipython3",
   "version": "3.8.10"
  }
 },
 "nbformat": 4,
 "nbformat_minor": 5
}
