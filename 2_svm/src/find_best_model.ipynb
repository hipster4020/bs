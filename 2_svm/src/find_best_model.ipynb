{
 "cells": [
  {
   "cell_type": "markdown",
   "id": "18a735b7",
   "metadata": {},
   "source": [
    "# "
   ]
  },
  {
   "cell_type": "markdown",
   "id": "4834ce81",
   "metadata": {},
   "source": [
    "input_data가 테이블 데이터로 Deeplearning보다 Sklearn MachineLearning Classifier가 더 적합하다고 판단<br>\n",
    "<b>kNN, DecisionTree, RandomForest, Naivebayes, svm</b> 중 cross_val_score accuracy 점수로 성능 판단"
   ]
  },
  {
   "cell_type": "markdown",
   "id": "a314017d",
   "metadata": {},
   "source": [
    "# "
   ]
  },
  {
   "cell_type": "markdown",
   "id": "6dbb4fba",
   "metadata": {},
   "source": [
    "# *Data Load*"
   ]
  },
  {
   "cell_type": "code",
   "execution_count": 1,
   "id": "683d6434",
   "metadata": {},
   "outputs": [],
   "source": [
    "from pshmodule.utils import filemanager as fm"
   ]
  },
  {
   "cell_type": "code",
   "execution_count": 2,
   "id": "efbc4034",
   "metadata": {},
   "outputs": [
    {
     "name": "stdout",
     "output_type": "stream",
     "text": [
      "extension : .pickle\n",
      "Loaded 396808 records from ../../data/df_users_whole_info.pickle\n"
     ]
    }
   ],
   "source": [
    "df = fm.load('../../data/df_users_whole_info.pickle')"
   ]
  },
  {
   "cell_type": "code",
   "execution_count": 3,
   "id": "bea19cdf",
   "metadata": {},
   "outputs": [
    {
     "data": {
      "text/html": [
       "<div>\n",
       "<style scoped>\n",
       "    .dataframe tbody tr th:only-of-type {\n",
       "        vertical-align: middle;\n",
       "    }\n",
       "\n",
       "    .dataframe tbody tr th {\n",
       "        vertical-align: top;\n",
       "    }\n",
       "\n",
       "    .dataframe thead th {\n",
       "        text-align: right;\n",
       "    }\n",
       "</style>\n",
       "<table border=\"1\" class=\"dataframe\">\n",
       "  <thead>\n",
       "    <tr style=\"text-align: right;\">\n",
       "      <th></th>\n",
       "      <th>user_uuid</th>\n",
       "      <th>marketing_channel</th>\n",
       "      <th>sex</th>\n",
       "      <th>age_group</th>\n",
       "      <th>date_joined</th>\n",
       "      <th>os</th>\n",
       "      <th>visits</th>\n",
       "      <th>revenue</th>\n",
       "    </tr>\n",
       "  </thead>\n",
       "  <tbody>\n",
       "    <tr>\n",
       "      <th>0</th>\n",
       "      <td>05b0058df377da90c21c585649cbf415</td>\n",
       "      <td>0</td>\n",
       "      <td>0</td>\n",
       "      <td>1</td>\n",
       "      <td>4</td>\n",
       "      <td>0</td>\n",
       "      <td>23</td>\n",
       "      <td>304.0</td>\n",
       "    </tr>\n",
       "    <tr>\n",
       "      <th>1</th>\n",
       "      <td>28b7062943065c84bb902a0c1d018398</td>\n",
       "      <td>1</td>\n",
       "      <td>0</td>\n",
       "      <td>0</td>\n",
       "      <td>4</td>\n",
       "      <td>0</td>\n",
       "      <td>5</td>\n",
       "      <td>195.0</td>\n",
       "    </tr>\n",
       "    <tr>\n",
       "      <th>2</th>\n",
       "      <td>f8c30b791fbe2d6c80585b20fb6fdbe0</td>\n",
       "      <td>0</td>\n",
       "      <td>0</td>\n",
       "      <td>1</td>\n",
       "      <td>4</td>\n",
       "      <td>0</td>\n",
       "      <td>1</td>\n",
       "      <td>78.0</td>\n",
       "    </tr>\n",
       "    <tr>\n",
       "      <th>3</th>\n",
       "      <td>91cd8505d196bea35d48f4f1eacbc106</td>\n",
       "      <td>0</td>\n",
       "      <td>1</td>\n",
       "      <td>1</td>\n",
       "      <td>4</td>\n",
       "      <td>1</td>\n",
       "      <td>18</td>\n",
       "      <td>202.0</td>\n",
       "    </tr>\n",
       "    <tr>\n",
       "      <th>4</th>\n",
       "      <td>4b34dfb277abb6ad04dcf6968fe416d0</td>\n",
       "      <td>0</td>\n",
       "      <td>0</td>\n",
       "      <td>1</td>\n",
       "      <td>4</td>\n",
       "      <td>0</td>\n",
       "      <td>9</td>\n",
       "      <td>197.0</td>\n",
       "    </tr>\n",
       "  </tbody>\n",
       "</table>\n",
       "</div>"
      ],
      "text/plain": [
       "                          user_uuid  marketing_channel  sex  age_group  \\\n",
       "0  05b0058df377da90c21c585649cbf415                  0    0          1   \n",
       "1  28b7062943065c84bb902a0c1d018398                  1    0          0   \n",
       "2  f8c30b791fbe2d6c80585b20fb6fdbe0                  0    0          1   \n",
       "3  91cd8505d196bea35d48f4f1eacbc106                  0    1          1   \n",
       "4  4b34dfb277abb6ad04dcf6968fe416d0                  0    0          1   \n",
       "\n",
       "   date_joined  os  visits  revenue  \n",
       "0            4   0      23    304.0  \n",
       "1            4   0       5    195.0  \n",
       "2            4   0       1     78.0  \n",
       "3            4   1      18    202.0  \n",
       "4            4   0       9    197.0  "
      ]
     },
     "execution_count": 3,
     "metadata": {},
     "output_type": "execute_result"
    }
   ],
   "source": [
    "df.head()"
   ]
  },
  {
   "cell_type": "code",
   "execution_count": 4,
   "id": "7ae52535",
   "metadata": {},
   "outputs": [
    {
     "name": "stdout",
     "output_type": "stream",
     "text": [
      "<class 'pandas.core.frame.DataFrame'>\n",
      "Int64Index: 396808 entries, 0 to 405084\n",
      "Data columns (total 8 columns):\n",
      " #   Column             Non-Null Count   Dtype  \n",
      "---  ------             --------------   -----  \n",
      " 0   user_uuid          396808 non-null  object \n",
      " 1   marketing_channel  396808 non-null  int64  \n",
      " 2   sex                396808 non-null  int64  \n",
      " 3   age_group          396808 non-null  int64  \n",
      " 4   date_joined        396808 non-null  int64  \n",
      " 5   os                 396808 non-null  int64  \n",
      " 6   visits             396808 non-null  int64  \n",
      " 7   revenue            396808 non-null  float64\n",
      "dtypes: float64(1), int64(6), object(1)\n",
      "memory usage: 27.2+ MB\n"
     ]
    }
   ],
   "source": [
    "df.info()"
   ]
  },
  {
   "cell_type": "markdown",
   "id": "f6b2ef20",
   "metadata": {},
   "source": [
    "# "
   ]
  },
  {
   "cell_type": "markdown",
   "id": "869f33f8",
   "metadata": {},
   "source": [
    "# *Data Split*"
   ]
  },
  {
   "cell_type": "code",
   "execution_count": 5,
   "id": "3ed433aa",
   "metadata": {},
   "outputs": [],
   "source": [
    "import pandas as pd\n",
    "from sklearn.model_selection import train_test_split"
   ]
  },
  {
   "cell_type": "code",
   "execution_count": 6,
   "id": "d567f0e5",
   "metadata": {},
   "outputs": [],
   "source": [
    "df = df[['sex', 'age_group', 'date_joined', 'os', 'visits', 'revenue', 'marketing_channel']]"
   ]
  },
  {
   "cell_type": "code",
   "execution_count": 7,
   "id": "ae38cd17",
   "metadata": {},
   "outputs": [],
   "source": [
    "train_data, test_data = train_test_split(df, test_size=0.2, random_state=42)"
   ]
  },
  {
   "cell_type": "code",
   "execution_count": 8,
   "id": "fc49b398",
   "metadata": {},
   "outputs": [
    {
     "name": "stdout",
     "output_type": "stream",
     "text": [
      "396808\n",
      "317446\n",
      "79362\n"
     ]
    }
   ],
   "source": [
    "print(len(df))\n",
    "print(len(train_data))\n",
    "print(len(test_data))"
   ]
  },
  {
   "cell_type": "code",
   "execution_count": 9,
   "id": "ef72fa81",
   "metadata": {},
   "outputs": [],
   "source": [
    "train_X = train_data.iloc[:,:6]\n",
    "train_y = train_data.iloc[:,-1]\n",
    "\n",
    "test_X = test_data.iloc[:,:6]\n",
    "test_y = test_data.iloc[:,-1]"
   ]
  },
  {
   "cell_type": "code",
   "execution_count": 10,
   "id": "bedfa005",
   "metadata": {},
   "outputs": [
    {
     "name": "stdout",
     "output_type": "stream",
     "text": [
      "train_X : Index(['sex', 'age_group', 'date_joined', 'os', 'visits', 'revenue'], dtype='object')\n",
      "train_y : 28350     1\n",
      "29269     0\n",
      "153715    0\n",
      "Name: marketing_channel, dtype: int64\n",
      "test_X : Index(['sex', 'age_group', 'date_joined', 'os', 'visits', 'revenue'], dtype='object')\n",
      "test_y : 201127    0\n",
      "293944    0\n",
      "316114    1\n",
      "Name: marketing_channel, dtype: int64\n"
     ]
    }
   ],
   "source": [
    "print(f\"train_X : {train_X.columns}\")\n",
    "print(f\"train_y : {train_y[:3]}\")\n",
    "\n",
    "print(f\"test_X : {test_X.columns}\")\n",
    "print(f\"test_y : {test_y[:3]}\")"
   ]
  },
  {
   "cell_type": "markdown",
   "id": "f55c3c17",
   "metadata": {},
   "source": [
    "# "
   ]
  },
  {
   "cell_type": "markdown",
   "id": "d364f2ca",
   "metadata": {},
   "source": [
    "# *Classifier*"
   ]
  },
  {
   "cell_type": "code",
   "execution_count": 11,
   "id": "9dba124a",
   "metadata": {},
   "outputs": [],
   "source": [
    "import numpy as np\n",
    "# kNN\n",
    "from sklearn.neighbors import KNeighborsClassifier\n",
    "# Decision Tree\n",
    "from sklearn.tree import DecisionTreeClassifier\n",
    "# Random Forest\n",
    "from sklearn.ensemble import RandomForestClassifier\n",
    "# 나이브 베이즈\n",
    "from sklearn.naive_bayes import GaussianNB\n",
    "# 서포터 벡터 머신\n",
    "from sklearn.svm import SVC"
   ]
  },
  {
   "cell_type": "code",
   "execution_count": 12,
   "id": "7aacc16b",
   "metadata": {},
   "outputs": [],
   "source": [
    "from sklearn.model_selection import KFold, cross_val_score"
   ]
  },
  {
   "cell_type": "code",
   "execution_count": 13,
   "id": "af7be56c",
   "metadata": {},
   "outputs": [
    {
     "name": "stdout",
     "output_type": "stream",
     "text": [
      "<class 'pandas.core.frame.DataFrame'>\n",
      "Int64Index: 317446 entries, 28350 to 124490\n",
      "Data columns (total 7 columns):\n",
      " #   Column             Non-Null Count   Dtype  \n",
      "---  ------             --------------   -----  \n",
      " 0   sex                317446 non-null  int64  \n",
      " 1   age_group          317446 non-null  int64  \n",
      " 2   date_joined        317446 non-null  int64  \n",
      " 3   os                 317446 non-null  int64  \n",
      " 4   visits             317446 non-null  int64  \n",
      " 5   revenue            317446 non-null  float64\n",
      " 6   marketing_channel  317446 non-null  int64  \n",
      "dtypes: float64(1), int64(6)\n",
      "memory usage: 19.4 MB\n"
     ]
    }
   ],
   "source": [
    "train_data.info()"
   ]
  },
  {
   "cell_type": "code",
   "execution_count": 14,
   "id": "2d83b9cf",
   "metadata": {},
   "outputs": [],
   "source": [
    "scoring = 'accuracy'\n",
    "k_fold = KFold(shuffle = True, random_state=0)"
   ]
  },
  {
   "cell_type": "markdown",
   "id": "9197310e",
   "metadata": {},
   "source": [
    "##### knn"
   ]
  },
  {
   "cell_type": "code",
   "execution_count": 15,
   "id": "3a367d7b",
   "metadata": {},
   "outputs": [],
   "source": [
    "knn_clf = KNeighborsClassifier()\n",
    "knn_clf = knn_clf.fit(train_X, train_y)\n",
    "knn_score = cross_val_score(knn_clf, train_X, train_y, cv=k_fold, n_jobs=1, scoring=scoring)"
   ]
  },
  {
   "cell_type": "code",
   "execution_count": 16,
   "id": "75ec67a3",
   "metadata": {},
   "outputs": [
    {
     "name": "stdout",
     "output_type": "stream",
     "text": [
      "knn_score : 77.16\n"
     ]
    }
   ],
   "source": [
    "knn_score = round(np.mean(knn_score) * 100, 2)\n",
    "print(f\"knn_score : {knn_score}\")"
   ]
  },
  {
   "cell_type": "markdown",
   "id": "ac4265e9",
   "metadata": {},
   "source": [
    "##### decision tree"
   ]
  },
  {
   "cell_type": "code",
   "execution_count": 17,
   "id": "915fd710",
   "metadata": {},
   "outputs": [],
   "source": [
    "dt_clf = DecisionTreeClassifier()\n",
    "dt_clf = dt_clf.fit(train_X, train_y)\n",
    "dt_score = cross_val_score(dt_clf, train_X, train_y, cv=k_fold, n_jobs=1, scoring=scoring)"
   ]
  },
  {
   "cell_type": "code",
   "execution_count": 18,
   "id": "c2d9d053",
   "metadata": {},
   "outputs": [
    {
     "name": "stdout",
     "output_type": "stream",
     "text": [
      "DecisionTree_score : 76.44\n"
     ]
    }
   ],
   "source": [
    "dt_score = round(np.mean(dt_score) * 100, 2)\n",
    "print(f\"DecisionTree_score : {dt_score}\")"
   ]
  },
  {
   "cell_type": "markdown",
   "id": "48354602",
   "metadata": {},
   "source": [
    "##### random forest"
   ]
  },
  {
   "cell_type": "code",
   "execution_count": 19,
   "id": "4e93049b",
   "metadata": {},
   "outputs": [],
   "source": [
    "rf_clf = RandomForestClassifier()\n",
    "rf_clf = rf_clf.fit(train_X, train_y)\n",
    "rf_score = cross_val_score(rf_clf, train_X, train_y, cv=k_fold, n_jobs=1, scoring=scoring)"
   ]
  },
  {
   "cell_type": "code",
   "execution_count": 20,
   "id": "defca6eb",
   "metadata": {},
   "outputs": [
    {
     "name": "stdout",
     "output_type": "stream",
     "text": [
      "RandomForest_score : 76.35\n"
     ]
    }
   ],
   "source": [
    "rf_score = round(np.mean(rf_score) * 100, 2)\n",
    "print(f\"RandomForest_score : {rf_score}\")"
   ]
  },
  {
   "cell_type": "markdown",
   "id": "06def1ec",
   "metadata": {},
   "source": [
    "##### naive bayes"
   ]
  },
  {
   "cell_type": "code",
   "execution_count": 21,
   "id": "5140b20b",
   "metadata": {},
   "outputs": [],
   "source": [
    "nb_clf = GaussianNB()\n",
    "nb_clf = nb_clf.fit(train_X, train_y)\n",
    "nb_score = cross_val_score(nb_clf, train_X, train_y, cv=k_fold, n_jobs=1, scoring=scoring)"
   ]
  },
  {
   "cell_type": "code",
   "execution_count": 22,
   "id": "b1fb2870",
   "metadata": {},
   "outputs": [
    {
     "name": "stdout",
     "output_type": "stream",
     "text": [
      "naivebayes_score : 80.59\n"
     ]
    }
   ],
   "source": [
    "nb_score = round(np.mean(nb_score) * 100, 2)\n",
    "print(f\"naivebayes_score : {nb_score}\")"
   ]
  },
  {
   "cell_type": "markdown",
   "id": "7fa49687",
   "metadata": {},
   "source": [
    "##### svm"
   ]
  },
  {
   "cell_type": "code",
   "execution_count": null,
   "id": "11e9e234",
   "metadata": {},
   "outputs": [],
   "source": [
    "svm_clf = SVC()\n",
    "svm_clf = svm_clf.fit(train_X, train_y)\n",
    "svm_score = cross_val_score(svm_clf, train_X, train_y, cv=k_fold, n_jobs=1, scoring=scoring)"
   ]
  },
  {
   "cell_type": "code",
   "execution_count": 24,
   "id": "8235ba74",
   "metadata": {},
   "outputs": [
    {
     "name": "stdout",
     "output_type": "stream",
     "text": [
      "svm_score : 81.02\n"
     ]
    }
   ],
   "source": [
    "svm_score = round(np.mean(svm_score) * 100, 2)\n",
    "print(f\"svm_score : {svm_score}\")"
   ]
  },
  {
   "cell_type": "markdown",
   "id": "e031fe96",
   "metadata": {},
   "source": [
    "### sex, age_group, date_joined, os, visit, revenue → marketing_channel\n",
    "kNN_score : 77.16<br>\n",
    "DecisionTree_score : 76.44<br>\n",
    "RandomForest_score : 76.35<br>\n",
    "naivebayes_score : 80.59<br>\n",
    "svm_score : 81.02"
   ]
  },
  {
   "cell_type": "markdown",
   "id": "6f6b0968",
   "metadata": {},
   "source": [
    "### Graph"
   ]
  },
  {
   "cell_type": "code",
   "execution_count": 1,
   "id": "beb5ec43",
   "metadata": {},
   "outputs": [],
   "source": [
    "import matplotlib.pyplot as plt"
   ]
  },
  {
   "cell_type": "code",
   "execution_count": 2,
   "id": "9fdb4bab",
   "metadata": {},
   "outputs": [],
   "source": [
    "list_x = ['kNN', 'DecisionTree', 'RandomForest', 'Naivebayes', 'SVM']\n",
    "list_y = [77.16, 76.44, 76.35, 80.59, 81.02]"
   ]
  },
  {
   "cell_type": "code",
   "execution_count": 4,
   "id": "8f4f8526",
   "metadata": {},
   "outputs": [
    {
     "data": {
      "image/png": "[encoded data removed]",
      "text/plain": [
       "<Figure size 576x432 with 1 Axes>"
      ]
     },
     "metadata": {
      "needs_background": "light"
     },
     "output_type": "display_data"
    }
   ],
   "source": [
    "plt.figure(figsize=(8,6))\n",
    "plt.bar(list_x, list_y)\n",
    "plt.show()"
   ]
  },
  {
   "cell_type": "markdown",
   "id": "8ae62912",
   "metadata": {},
   "source": [
    "# "
   ]
  },
  {
   "cell_type": "markdown",
   "id": "00e3dfaa",
   "metadata": {},
   "source": [
    "모든 변수(sex, age_group, date_joined, os, visit, revenue)를 입력할 때,<br>\n",
    "SVM Accuracy Score가 가장 높으므로 <b>SVM model</b> 채택"
   ]
  }
 ],
 "metadata": {
  "kernelspec": {
   "display_name": "Python 3",
   "language": "python",
   "name": "python3"
  },
  "language_info": {
   "codemirror_mode": {
    "name": "ipython",
    "version": 3
   },
   "file_extension": ".py",
   "mimetype": "text/x-python",
   "name": "python",
   "nbconvert_exporter": "python",
   "pygments_lexer": "ipython3",
   "version": "3.8.10"
  }
 },
 "nbformat": 4,
 "nbformat_minor": 5
}
