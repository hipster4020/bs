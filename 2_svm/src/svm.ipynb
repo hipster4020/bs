{
 "cells": [
  {
   "cell_type": "markdown",
   "id": "dfa68873",
   "metadata": {},
   "source": [
    "# *Data Load*"
   ]
  },
  {
   "cell_type": "code",
   "execution_count": 1,
   "id": "3a8b6ad5",
   "metadata": {},
   "outputs": [],
   "source": [
    "from pshmodule.utils import filemanager as fm"
   ]
  },
  {
   "cell_type": "code",
   "execution_count": 2,
   "id": "0aa0b59d",
   "metadata": {},
   "outputs": [
    {
     "name": "stdout",
     "output_type": "stream",
     "text": [
      "extension : .pickle\n",
      "Loaded 396808 records from ../../data/df_users_whole_info.pickle\n"
     ]
    }
   ],
   "source": [
    "df = fm.load('../../data/df_users_whole_info.pickle')"
   ]
  },
  {
   "cell_type": "code",
   "execution_count": 3,
   "id": "de724c7f",
   "metadata": {},
   "outputs": [
    {
     "data": {
      "text/html": [
       "<div>\n",
       "<style scoped>\n",
       "    .dataframe tbody tr th:only-of-type {\n",
       "        vertical-align: middle;\n",
       "    }\n",
       "\n",
       "    .dataframe tbody tr th {\n",
       "        vertical-align: top;\n",
       "    }\n",
       "\n",
       "    .dataframe thead th {\n",
       "        text-align: right;\n",
       "    }\n",
       "</style>\n",
       "<table border=\"1\" class=\"dataframe\">\n",
       "  <thead>\n",
       "    <tr style=\"text-align: right;\">\n",
       "      <th></th>\n",
       "      <th>user_uuid</th>\n",
       "      <th>marketing_channel</th>\n",
       "      <th>sex</th>\n",
       "      <th>age_group</th>\n",
       "      <th>date_joined</th>\n",
       "      <th>os</th>\n",
       "      <th>visits</th>\n",
       "      <th>revenue</th>\n",
       "    </tr>\n",
       "  </thead>\n",
       "  <tbody>\n",
       "    <tr>\n",
       "      <th>0</th>\n",
       "      <td>05b0058df377da90c21c585649cbf415</td>\n",
       "      <td>0</td>\n",
       "      <td>0</td>\n",
       "      <td>1</td>\n",
       "      <td>4</td>\n",
       "      <td>0</td>\n",
       "      <td>23</td>\n",
       "      <td>304.0</td>\n",
       "    </tr>\n",
       "    <tr>\n",
       "      <th>1</th>\n",
       "      <td>28b7062943065c84bb902a0c1d018398</td>\n",
       "      <td>1</td>\n",
       "      <td>0</td>\n",
       "      <td>0</td>\n",
       "      <td>4</td>\n",
       "      <td>0</td>\n",
       "      <td>5</td>\n",
       "      <td>195.0</td>\n",
       "    </tr>\n",
       "    <tr>\n",
       "      <th>2</th>\n",
       "      <td>f8c30b791fbe2d6c80585b20fb6fdbe0</td>\n",
       "      <td>0</td>\n",
       "      <td>0</td>\n",
       "      <td>1</td>\n",
       "      <td>4</td>\n",
       "      <td>0</td>\n",
       "      <td>1</td>\n",
       "      <td>78.0</td>\n",
       "    </tr>\n",
       "    <tr>\n",
       "      <th>3</th>\n",
       "      <td>91cd8505d196bea35d48f4f1eacbc106</td>\n",
       "      <td>0</td>\n",
       "      <td>1</td>\n",
       "      <td>1</td>\n",
       "      <td>4</td>\n",
       "      <td>1</td>\n",
       "      <td>18</td>\n",
       "      <td>202.0</td>\n",
       "    </tr>\n",
       "    <tr>\n",
       "      <th>4</th>\n",
       "      <td>4b34dfb277abb6ad04dcf6968fe416d0</td>\n",
       "      <td>0</td>\n",
       "      <td>0</td>\n",
       "      <td>1</td>\n",
       "      <td>4</td>\n",
       "      <td>0</td>\n",
       "      <td>9</td>\n",
       "      <td>197.0</td>\n",
       "    </tr>\n",
       "    <tr>\n",
       "      <th>5</th>\n",
       "      <td>cca426a2b08ffba17a0bb3a6d5e704b2</td>\n",
       "      <td>0</td>\n",
       "      <td>1</td>\n",
       "      <td>2</td>\n",
       "      <td>3</td>\n",
       "      <td>1</td>\n",
       "      <td>1</td>\n",
       "      <td>906.0</td>\n",
       "    </tr>\n",
       "    <tr>\n",
       "      <th>6</th>\n",
       "      <td>feb4fa108eaf1ce3eeebf551deb2fb40</td>\n",
       "      <td>0</td>\n",
       "      <td>0</td>\n",
       "      <td>1</td>\n",
       "      <td>4</td>\n",
       "      <td>0</td>\n",
       "      <td>2</td>\n",
       "      <td>64.0</td>\n",
       "    </tr>\n",
       "    <tr>\n",
       "      <th>7</th>\n",
       "      <td>654451a4952dc807938fba26c40f0513</td>\n",
       "      <td>0</td>\n",
       "      <td>1</td>\n",
       "      <td>0</td>\n",
       "      <td>4</td>\n",
       "      <td>1</td>\n",
       "      <td>6</td>\n",
       "      <td>49.0</td>\n",
       "    </tr>\n",
       "    <tr>\n",
       "      <th>8</th>\n",
       "      <td>c07f1228891d03c5ea029366a9886be1</td>\n",
       "      <td>1</td>\n",
       "      <td>1</td>\n",
       "      <td>1</td>\n",
       "      <td>4</td>\n",
       "      <td>1</td>\n",
       "      <td>18</td>\n",
       "      <td>149.0</td>\n",
       "    </tr>\n",
       "    <tr>\n",
       "      <th>9</th>\n",
       "      <td>ce49bb23b31252c914364fcd7c48111e</td>\n",
       "      <td>1</td>\n",
       "      <td>1</td>\n",
       "      <td>3</td>\n",
       "      <td>4</td>\n",
       "      <td>1</td>\n",
       "      <td>4</td>\n",
       "      <td>825.0</td>\n",
       "    </tr>\n",
       "  </tbody>\n",
       "</table>\n",
       "</div>"
      ],
      "text/plain": [
       "                          user_uuid  marketing_channel  sex  age_group  \\\n",
       "0  05b0058df377da90c21c585649cbf415                  0    0          1   \n",
       "1  28b7062943065c84bb902a0c1d018398                  1    0          0   \n",
       "2  f8c30b791fbe2d6c80585b20fb6fdbe0                  0    0          1   \n",
       "3  91cd8505d196bea35d48f4f1eacbc106                  0    1          1   \n",
       "4  4b34dfb277abb6ad04dcf6968fe416d0                  0    0          1   \n",
       "5  cca426a2b08ffba17a0bb3a6d5e704b2                  0    1          2   \n",
       "6  feb4fa108eaf1ce3eeebf551deb2fb40                  0    0          1   \n",
       "7  654451a4952dc807938fba26c40f0513                  0    1          0   \n",
       "8  c07f1228891d03c5ea029366a9886be1                  1    1          1   \n",
       "9  ce49bb23b31252c914364fcd7c48111e                  1    1          3   \n",
       "\n",
       "   date_joined  os  visits  revenue  \n",
       "0            4   0      23    304.0  \n",
       "1            4   0       5    195.0  \n",
       "2            4   0       1     78.0  \n",
       "3            4   1      18    202.0  \n",
       "4            4   0       9    197.0  \n",
       "5            3   1       1    906.0  \n",
       "6            4   0       2     64.0  \n",
       "7            4   1       6     49.0  \n",
       "8            4   1      18    149.0  \n",
       "9            4   1       4    825.0  "
      ]
     },
     "execution_count": 3,
     "metadata": {},
     "output_type": "execute_result"
    }
   ],
   "source": [
    "df.head(10)"
   ]
  },
  {
   "cell_type": "markdown",
   "id": "6d54201b",
   "metadata": {},
   "source": [
    "# "
   ]
  },
  {
   "cell_type": "markdown",
   "id": "9f73f31e",
   "metadata": {},
   "source": [
    "# *Data Split*"
   ]
  },
  {
   "cell_type": "code",
   "execution_count": 4,
   "id": "e8ec3c30",
   "metadata": {},
   "outputs": [],
   "source": [
    "import pandas as pd\n",
    "from sklearn.model_selection import train_test_split"
   ]
  },
  {
   "cell_type": "code",
   "execution_count": 5,
   "id": "7226db49",
   "metadata": {},
   "outputs": [],
   "source": [
    "df = df[['sex', 'age_group', 'date_joined', 'os', 'visits', 'revenue', 'marketing_channel']]"
   ]
  },
  {
   "cell_type": "code",
   "execution_count": 6,
   "id": "092ab0ea",
   "metadata": {},
   "outputs": [
    {
     "data": {
      "text/plain": [
       "0    321485\n",
       "1     75323\n",
       "Name: marketing_channel, dtype: int64"
      ]
     },
     "execution_count": 6,
     "metadata": {},
     "output_type": "execute_result"
    }
   ],
   "source": [
    "df.marketing_channel.value_counts()"
   ]
  },
  {
   "cell_type": "markdown",
   "id": "509e325b",
   "metadata": {},
   "source": [
    "#### marketing_channel 불균형 수정"
   ]
  },
  {
   "cell_type": "code",
   "execution_count": 7,
   "id": "1ba929b1",
   "metadata": {},
   "outputs": [],
   "source": [
    "df = df.sample(frac=1).reset_index(drop=True)"
   ]
  },
  {
   "cell_type": "code",
   "execution_count": 8,
   "id": "65c55cd4",
   "metadata": {},
   "outputs": [],
   "source": [
    "df_zero = df[df.marketing_channel.apply(lambda x: x == 0)]\n",
    "df = df[~df.marketing_channel.apply(lambda x: x == 0)]"
   ]
  },
  {
   "cell_type": "code",
   "execution_count": 9,
   "id": "a574b8fe",
   "metadata": {},
   "outputs": [
    {
     "name": "stdout",
     "output_type": "stream",
     "text": [
      "321485\n",
      "75323\n"
     ]
    }
   ],
   "source": [
    "print(len(df_zero))\n",
    "print(len(df))"
   ]
  },
  {
   "cell_type": "code",
   "execution_count": 10,
   "id": "6f8cd4ff",
   "metadata": {},
   "outputs": [],
   "source": [
    "df_zero = df_zero[:80000]\n",
    "df = pd.concat([df_zero, df])"
   ]
  },
  {
   "cell_type": "code",
   "execution_count": 11,
   "id": "3d69b0cb",
   "metadata": {},
   "outputs": [
    {
     "data": {
      "text/plain": [
       "0    80000\n",
       "1    75323\n",
       "Name: marketing_channel, dtype: int64"
      ]
     },
     "execution_count": 11,
     "metadata": {},
     "output_type": "execute_result"
    }
   ],
   "source": [
    "df.marketing_channel.value_counts()"
   ]
  },
  {
   "cell_type": "markdown",
   "id": "2fea99ee",
   "metadata": {},
   "source": [
    "# "
   ]
  },
  {
   "cell_type": "code",
   "execution_count": 12,
   "id": "7422f455",
   "metadata": {},
   "outputs": [],
   "source": [
    "train_data, test_data = train_test_split(df, test_size=0.1, random_state=42)"
   ]
  },
  {
   "cell_type": "code",
   "execution_count": 13,
   "id": "de14793a",
   "metadata": {},
   "outputs": [
    {
     "name": "stdout",
     "output_type": "stream",
     "text": [
      "155323\n",
      "139790\n",
      "15533\n"
     ]
    }
   ],
   "source": [
    "print(len(df))\n",
    "print(len(train_data))\n",
    "print(len(test_data))"
   ]
  },
  {
   "cell_type": "code",
   "execution_count": 14,
   "id": "04367c19",
   "metadata": {},
   "outputs": [
    {
     "data": {
      "text/plain": [
       "0    72054\n",
       "1    67736\n",
       "Name: marketing_channel, dtype: int64"
      ]
     },
     "execution_count": 14,
     "metadata": {},
     "output_type": "execute_result"
    }
   ],
   "source": [
    "train_data.marketing_channel.value_counts()"
   ]
  },
  {
   "cell_type": "code",
   "execution_count": 15,
   "id": "9dfcbf1a",
   "metadata": {},
   "outputs": [],
   "source": [
    "X_train = train_data.iloc[:,:6]\n",
    "y_train = train_data.iloc[:,-1]\n",
    "\n",
    "X_test = test_data.iloc[:,:6]\n",
    "y_test = test_data.iloc[:,-1]"
   ]
  },
  {
   "cell_type": "code",
   "execution_count": 16,
   "id": "92ca28dd",
   "metadata": {},
   "outputs": [
    {
     "name": "stdout",
     "output_type": "stream",
     "text": [
      "X_train : Index(['sex', 'age_group', 'date_joined', 'os', 'visits', 'revenue'], dtype='object')\n",
      "y_train : 315163    1\n",
      "46153     0\n",
      "20981     0\n",
      "Name: marketing_channel, dtype: int64\n",
      "X_test : Index(['sex', 'age_group', 'date_joined', 'os', 'visits', 'revenue'], dtype='object')\n",
      "y_test : 311259    1\n",
      "3387      0\n",
      "216051    1\n",
      "Name: marketing_channel, dtype: int64\n"
     ]
    }
   ],
   "source": [
    "print(f\"X_train : {X_train.columns}\")\n",
    "print(f\"y_train : {y_train[:3]}\")\n",
    "\n",
    "print(f\"X_test : {X_test.columns}\")\n",
    "print(f\"y_test : {y_test[:3]}\")"
   ]
  },
  {
   "cell_type": "markdown",
   "id": "b33cb742",
   "metadata": {},
   "source": [
    "# "
   ]
  },
  {
   "cell_type": "markdown",
   "id": "c1e66c98",
   "metadata": {},
   "source": [
    "# *SVM*"
   ]
  },
  {
   "cell_type": "markdown",
   "id": "37585d1d",
   "metadata": {},
   "source": [
    "### train"
   ]
  },
  {
   "cell_type": "code",
   "execution_count": 17,
   "id": "46b194f7",
   "metadata": {},
   "outputs": [],
   "source": [
    "from sklearn.svm import SVC\n",
    "from joblib import dump"
   ]
  },
  {
   "cell_type": "code",
   "execution_count": 18,
   "id": "fc61cb11",
   "metadata": {},
   "outputs": [],
   "source": [
    "svm_clf = SVC()\n",
    "svm_clf = svm_clf.fit(X_train, y_train)"
   ]
  },
  {
   "cell_type": "code",
   "execution_count": 19,
   "id": "dfe5061e",
   "metadata": {},
   "outputs": [
    {
     "data": {
      "text/plain": [
       "['../result/svm_100000.joblib']"
      ]
     },
     "execution_count": 19,
     "metadata": {},
     "output_type": "execute_result"
    }
   ],
   "source": [
    "dump(svm_clf, '../result/svm_100000.joblib') "
   ]
  },
  {
   "cell_type": "markdown",
   "id": "9176e30f",
   "metadata": {},
   "source": [
    "### load"
   ]
  },
  {
   "cell_type": "code",
   "execution_count": 17,
   "id": "d8d2b597",
   "metadata": {},
   "outputs": [],
   "source": [
    "from joblib import load\n",
    "import numpy as np\n",
    "from sklearn.metrics import accuracy_score, f1_score"
   ]
  },
  {
   "cell_type": "code",
   "execution_count": 18,
   "id": "f5cae3f4",
   "metadata": {},
   "outputs": [],
   "source": [
    "svm_clf = load('../result/svm_80000.joblib')"
   ]
  },
  {
   "cell_type": "code",
   "execution_count": 19,
   "id": "3008c762",
   "metadata": {},
   "outputs": [
    {
     "name": "stdout",
     "output_type": "stream",
     "text": [
      "[1]\n"
     ]
    },
    {
     "name": "stderr",
     "output_type": "stream",
     "text": [
      "/mnt/nas_storage3/shpark/.venv/lib/python3.8/site-packages/sklearn/base.py:445: UserWarning: X does not have valid feature names, but SVC was fitted with feature names\n",
      "  warnings.warn(\n"
     ]
    }
   ],
   "source": [
    "pred = svm_clf.predict(np.array([[0, 0, 4, 0, 5, 195.0]]))\n",
    "print(pred)"
   ]
  },
  {
   "cell_type": "code",
   "execution_count": 20,
   "id": "38533358",
   "metadata": {},
   "outputs": [],
   "source": [
    "y_pred = svm_clf.predict(X_test)"
   ]
  },
  {
   "cell_type": "code",
   "execution_count": 21,
   "id": "495dc801",
   "metadata": {},
   "outputs": [
    {
     "name": "stdout",
     "output_type": "stream",
     "text": [
      "origin zero : 7946\n",
      "predict zero : 6190\n",
      "origin one : 7587\n",
      "predict one : 9343\n"
     ]
    }
   ],
   "source": [
    "origin_zero = 0\n",
    "origin_one = 0\n",
    "for i in y_test.tolist():\n",
    "    if i == 0:\n",
    "        origin_zero += 1\n",
    "    elif i == 1:\n",
    "        origin_one += 1\n",
    "\n",
    "pred_zero = 0\n",
    "pred_one = 0\n",
    "for i in y_pred.tolist():\n",
    "    if i == 0:\n",
    "        pred_zero += 1\n",
    "    elif i == 1:\n",
    "        pred_one += 1\n",
    "        \n",
    "print(f\"origin zero : {origin_zero}\")\n",
    "print(f\"predict zero : {pred_zero}\")\n",
    "print(f\"origin one : {origin_one}\")\n",
    "print(f\"predict one : {pred_one}\")"
   ]
  },
  {
   "cell_type": "code",
   "execution_count": 22,
   "id": "bc8a880e",
   "metadata": {},
   "outputs": [
    {
     "name": "stdout",
     "output_type": "stream",
     "text": [
      "y_test : [1, 0, 1, 0, 0, 0, 0, 0, 1, 0, 1, 1, 1, 1, 0, 1, 1, 1, 1, 0, 0, 1, 0, 1, 0, 1, 1, 1, 0, 1, 0, 1, 1, 0, 0, 1, 1, 0, 0, 0]\n",
      "y_pred : [1, 1, 1, 0, 0, 1, 0, 1, 1, 1, 1, 1, 1, 0, 1, 1, 1, 1, 0, 1, 1, 1, 0, 1, 0, 0, 0, 1, 0, 1, 1, 1, 1, 0, 0, 1, 1, 0, 0, 0]\n"
     ]
    }
   ],
   "source": [
    "print(f\"y_test : {y_test.tolist()[:40]}\")\n",
    "print(f\"y_pred : {y_pred.tolist()[:40]}\")"
   ]
  },
  {
   "cell_type": "code",
   "execution_count": 23,
   "id": "54c86d4a",
   "metadata": {},
   "outputs": [
    {
     "name": "stdout",
     "output_type": "stream",
     "text": [
      "Accuacy :  0.61231\n",
      "F1 Score :  0.60915\n"
     ]
    }
   ],
   "source": [
    "print('Accuacy : {: .5f}'.format(accuracy_score(y_test, y_pred)))\n",
    "print('F1 Score : {: .5f}'.format(f1_score(y_test, y_pred, average='macro')))"
   ]
  },
  {
   "cell_type": "markdown",
   "id": "9420f908",
   "metadata": {},
   "source": [
    "# "
   ]
  },
  {
   "cell_type": "markdown",
   "id": "1564e5b0",
   "metadata": {},
   "source": [
    "### 210000\n",
    "Accuacy :  0.73774<br>\n",
    "F1 Score :  0.42454<br><br>\n",
    "### 100000\n",
    "Accuacy :  0.61592<br>\n",
    "F1 Score :  0.60391<br><br>\n",
    "### 80000\n",
    "Accuacy :  0.62570<br>\n",
    "F1 Score :  0.62267"
   ]
  },
  {
   "cell_type": "markdown",
   "id": "0758016f",
   "metadata": {},
   "source": [
    "# "
   ]
  }
 ],
 "metadata": {
  "kernelspec": {
   "display_name": "Python 3",
   "language": "python",
   "name": "python3"
  },
  "language_info": {
   "codemirror_mode": {
    "name": "ipython",
    "version": 3
   },
   "file_extension": ".py",
   "mimetype": "text/x-python",
   "name": "python",
   "nbconvert_exporter": "python",
   "pygments_lexer": "ipython3",
   "version": "3.8.10"
  }
 },
 "nbformat": 4,
 "nbformat_minor": 5
}
