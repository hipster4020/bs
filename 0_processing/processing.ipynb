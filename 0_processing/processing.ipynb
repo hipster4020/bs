{
 "cells": [
  {
   "cell_type": "markdown",
   "id": "a4b767ae",
   "metadata": {},
   "source": [
    "# *Data Load*"
   ]
  },
  {
   "cell_type": "code",
   "execution_count": 1,
   "id": "da765496",
   "metadata": {},
   "outputs": [],
   "source": [
    "import pandas as pd\n",
    "from pshmodule.utils import filemanager as fm"
   ]
  },
  {
   "cell_type": "code",
   "execution_count": 2,
   "id": "35f697e1",
   "metadata": {},
   "outputs": [
    {
     "name": "stdout",
     "output_type": "stream",
     "text": [
      "extension : .csv\n",
      "Loaded 445220 records from ../data/df_users.csv\n"
     ]
    }
   ],
   "source": [
    "df_users = fm.load('../data/df_users.csv')"
   ]
  },
  {
   "cell_type": "code",
   "execution_count": 3,
   "id": "77b68769",
   "metadata": {},
   "outputs": [
    {
     "data": {
      "text/html": [
       "<div>\n",
       "<style scoped>\n",
       "    .dataframe tbody tr th:only-of-type {\n",
       "        vertical-align: middle;\n",
       "    }\n",
       "\n",
       "    .dataframe tbody tr th {\n",
       "        vertical-align: top;\n",
       "    }\n",
       "\n",
       "    .dataframe thead th {\n",
       "        text-align: right;\n",
       "    }\n",
       "</style>\n",
       "<table border=\"1\" class=\"dataframe\">\n",
       "  <thead>\n",
       "    <tr style=\"text-align: right;\">\n",
       "      <th></th>\n",
       "      <th>user_uuid</th>\n",
       "      <th>marketing_channel</th>\n",
       "      <th>sex</th>\n",
       "      <th>age_group</th>\n",
       "      <th>date_joined</th>\n",
       "      <th>os</th>\n",
       "    </tr>\n",
       "  </thead>\n",
       "  <tbody>\n",
       "    <tr>\n",
       "      <th>0</th>\n",
       "      <td>05b0058df377da90c21c585649cbf415</td>\n",
       "      <td>channel_A</td>\n",
       "      <td>male</td>\n",
       "      <td>30-39</td>\n",
       "      <td>2030-05-10</td>\n",
       "      <td>android</td>\n",
       "    </tr>\n",
       "    <tr>\n",
       "      <th>1</th>\n",
       "      <td>28b7062943065c84bb902a0c1d018398</td>\n",
       "      <td>channel_B</td>\n",
       "      <td>male</td>\n",
       "      <td>20-29</td>\n",
       "      <td>2030-05-10</td>\n",
       "      <td>android</td>\n",
       "    </tr>\n",
       "    <tr>\n",
       "      <th>2</th>\n",
       "      <td>f8c30b791fbe2d6c80585b20fb6fdbe0</td>\n",
       "      <td>channel_A</td>\n",
       "      <td>male</td>\n",
       "      <td>30-39</td>\n",
       "      <td>2030-05-25</td>\n",
       "      <td>android</td>\n",
       "    </tr>\n",
       "    <tr>\n",
       "      <th>3</th>\n",
       "      <td>91cd8505d196bea35d48f4f1eacbc106</td>\n",
       "      <td>channel_A</td>\n",
       "      <td>female</td>\n",
       "      <td>30-39</td>\n",
       "      <td>2030-05-20</td>\n",
       "      <td>iOS</td>\n",
       "    </tr>\n",
       "    <tr>\n",
       "      <th>4</th>\n",
       "      <td>4b34dfb277abb6ad04dcf6968fe416d0</td>\n",
       "      <td>channel_A</td>\n",
       "      <td>male</td>\n",
       "      <td>30-39</td>\n",
       "      <td>2030-05-20</td>\n",
       "      <td>android</td>\n",
       "    </tr>\n",
       "  </tbody>\n",
       "</table>\n",
       "</div>"
      ],
      "text/plain": [
       "                          user_uuid marketing_channel     sex age_group  \\\n",
       "0  05b0058df377da90c21c585649cbf415         channel_A    male     30-39   \n",
       "1  28b7062943065c84bb902a0c1d018398         channel_B    male     20-29   \n",
       "2  f8c30b791fbe2d6c80585b20fb6fdbe0         channel_A    male     30-39   \n",
       "3  91cd8505d196bea35d48f4f1eacbc106         channel_A  female     30-39   \n",
       "4  4b34dfb277abb6ad04dcf6968fe416d0         channel_A    male     30-39   \n",
       "\n",
       "  date_joined       os  \n",
       "0  2030-05-10  android  \n",
       "1  2030-05-10  android  \n",
       "2  2030-05-25  android  \n",
       "3  2030-05-20      iOS  \n",
       "4  2030-05-20  android  "
      ]
     },
     "execution_count": 3,
     "metadata": {},
     "output_type": "execute_result"
    }
   ],
   "source": [
    "df_users.head()"
   ]
  },
  {
   "cell_type": "code",
   "execution_count": 4,
   "id": "b51e3e3f",
   "metadata": {},
   "outputs": [
    {
     "name": "stdout",
     "output_type": "stream",
     "text": [
      "extension : .csv\n",
      "Loaded 405085 records from ../data/df_user_activities.csv\n"
     ]
    }
   ],
   "source": [
    "df_user_activities = fm.load('../data/df_user_activities.csv')"
   ]
  },
  {
   "cell_type": "code",
   "execution_count": 5,
   "id": "0a030056",
   "metadata": {},
   "outputs": [
    {
     "data": {
      "text/html": [
       "<div>\n",
       "<style scoped>\n",
       "    .dataframe tbody tr th:only-of-type {\n",
       "        vertical-align: middle;\n",
       "    }\n",
       "\n",
       "    .dataframe tbody tr th {\n",
       "        vertical-align: top;\n",
       "    }\n",
       "\n",
       "    .dataframe thead th {\n",
       "        text-align: right;\n",
       "    }\n",
       "</style>\n",
       "<table border=\"1\" class=\"dataframe\">\n",
       "  <thead>\n",
       "    <tr style=\"text-align: right;\">\n",
       "      <th></th>\n",
       "      <th>user_uuid</th>\n",
       "      <th>visits</th>\n",
       "      <th>revenue</th>\n",
       "    </tr>\n",
       "  </thead>\n",
       "  <tbody>\n",
       "    <tr>\n",
       "      <th>0</th>\n",
       "      <td>479111c2a4a6f4bab457c100c33ac461</td>\n",
       "      <td>5</td>\n",
       "      <td>115.0</td>\n",
       "    </tr>\n",
       "    <tr>\n",
       "      <th>1</th>\n",
       "      <td>dfe8227b49199cd5edc20fcd92b78e0b</td>\n",
       "      <td>18</td>\n",
       "      <td>44.0</td>\n",
       "    </tr>\n",
       "    <tr>\n",
       "      <th>2</th>\n",
       "      <td>91f1cba54ecba59d0f4a7170ce87492f</td>\n",
       "      <td>6</td>\n",
       "      <td>120.0</td>\n",
       "    </tr>\n",
       "    <tr>\n",
       "      <th>3</th>\n",
       "      <td>cf1682c626c9b838bf8bfc9ebdafde76</td>\n",
       "      <td>1</td>\n",
       "      <td>584.0</td>\n",
       "    </tr>\n",
       "    <tr>\n",
       "      <th>4</th>\n",
       "      <td>193c6a06b21e8fce199dc508235e5b6b</td>\n",
       "      <td>8</td>\n",
       "      <td>273.0</td>\n",
       "    </tr>\n",
       "  </tbody>\n",
       "</table>\n",
       "</div>"
      ],
      "text/plain": [
       "                          user_uuid  visits  revenue\n",
       "0  479111c2a4a6f4bab457c100c33ac461       5    115.0\n",
       "1  dfe8227b49199cd5edc20fcd92b78e0b      18     44.0\n",
       "2  91f1cba54ecba59d0f4a7170ce87492f       6    120.0\n",
       "3  cf1682c626c9b838bf8bfc9ebdafde76       1    584.0\n",
       "4  193c6a06b21e8fce199dc508235e5b6b       8    273.0"
      ]
     },
     "execution_count": 5,
     "metadata": {},
     "output_type": "execute_result"
    }
   ],
   "source": [
    "df_user_activities.head()"
   ]
  },
  {
   "cell_type": "markdown",
   "id": "ce43f746",
   "metadata": {},
   "source": [
    "# "
   ]
  },
  {
   "cell_type": "markdown",
   "id": "b3da23d1",
   "metadata": {},
   "source": [
    "# *Data Inner Join*"
   ]
  },
  {
   "cell_type": "code",
   "execution_count": 6,
   "id": "6658005e",
   "metadata": {},
   "outputs": [],
   "source": [
    "df_test = df_user_activities[df_user_activities.user_uuid.str.contains('05b0058df377da90c21c585649cbf415')]"
   ]
  },
  {
   "cell_type": "code",
   "execution_count": 7,
   "id": "cf221581",
   "metadata": {},
   "outputs": [
    {
     "data": {
      "text/html": [
       "<div>\n",
       "<style scoped>\n",
       "    .dataframe tbody tr th:only-of-type {\n",
       "        vertical-align: middle;\n",
       "    }\n",
       "\n",
       "    .dataframe tbody tr th {\n",
       "        vertical-align: top;\n",
       "    }\n",
       "\n",
       "    .dataframe thead th {\n",
       "        text-align: right;\n",
       "    }\n",
       "</style>\n",
       "<table border=\"1\" class=\"dataframe\">\n",
       "  <thead>\n",
       "    <tr style=\"text-align: right;\">\n",
       "      <th></th>\n",
       "      <th>user_uuid</th>\n",
       "      <th>visits</th>\n",
       "      <th>revenue</th>\n",
       "    </tr>\n",
       "  </thead>\n",
       "  <tbody>\n",
       "    <tr>\n",
       "      <th>393704</th>\n",
       "      <td>05b0058df377da90c21c585649cbf415</td>\n",
       "      <td>23</td>\n",
       "      <td>304.0</td>\n",
       "    </tr>\n",
       "  </tbody>\n",
       "</table>\n",
       "</div>"
      ],
      "text/plain": [
       "                               user_uuid  visits  revenue\n",
       "393704  05b0058df377da90c21c585649cbf415      23    304.0"
      ]
     },
     "execution_count": 7,
     "metadata": {},
     "output_type": "execute_result"
    }
   ],
   "source": [
    "df_test.head()"
   ]
  },
  {
   "cell_type": "code",
   "execution_count": 8,
   "id": "32dfdf07",
   "metadata": {},
   "outputs": [],
   "source": [
    "df = pd.merge(df_users, df_user_activities, left_on='user_uuid', right_on='user_uuid', how='inner')"
   ]
  },
  {
   "cell_type": "code",
   "execution_count": 9,
   "id": "1950f607",
   "metadata": {},
   "outputs": [
    {
     "data": {
      "text/html": [
       "<div>\n",
       "<style scoped>\n",
       "    .dataframe tbody tr th:only-of-type {\n",
       "        vertical-align: middle;\n",
       "    }\n",
       "\n",
       "    .dataframe tbody tr th {\n",
       "        vertical-align: top;\n",
       "    }\n",
       "\n",
       "    .dataframe thead th {\n",
       "        text-align: right;\n",
       "    }\n",
       "</style>\n",
       "<table border=\"1\" class=\"dataframe\">\n",
       "  <thead>\n",
       "    <tr style=\"text-align: right;\">\n",
       "      <th></th>\n",
       "      <th>user_uuid</th>\n",
       "      <th>marketing_channel</th>\n",
       "      <th>sex</th>\n",
       "      <th>age_group</th>\n",
       "      <th>date_joined</th>\n",
       "      <th>os</th>\n",
       "      <th>visits</th>\n",
       "      <th>revenue</th>\n",
       "    </tr>\n",
       "  </thead>\n",
       "  <tbody>\n",
       "    <tr>\n",
       "      <th>0</th>\n",
       "      <td>05b0058df377da90c21c585649cbf415</td>\n",
       "      <td>channel_A</td>\n",
       "      <td>male</td>\n",
       "      <td>30-39</td>\n",
       "      <td>2030-05-10</td>\n",
       "      <td>android</td>\n",
       "      <td>23</td>\n",
       "      <td>304.0</td>\n",
       "    </tr>\n",
       "    <tr>\n",
       "      <th>1</th>\n",
       "      <td>28b7062943065c84bb902a0c1d018398</td>\n",
       "      <td>channel_B</td>\n",
       "      <td>male</td>\n",
       "      <td>20-29</td>\n",
       "      <td>2030-05-10</td>\n",
       "      <td>android</td>\n",
       "      <td>5</td>\n",
       "      <td>195.0</td>\n",
       "    </tr>\n",
       "    <tr>\n",
       "      <th>2</th>\n",
       "      <td>f8c30b791fbe2d6c80585b20fb6fdbe0</td>\n",
       "      <td>channel_A</td>\n",
       "      <td>male</td>\n",
       "      <td>30-39</td>\n",
       "      <td>2030-05-25</td>\n",
       "      <td>android</td>\n",
       "      <td>1</td>\n",
       "      <td>78.0</td>\n",
       "    </tr>\n",
       "    <tr>\n",
       "      <th>3</th>\n",
       "      <td>91cd8505d196bea35d48f4f1eacbc106</td>\n",
       "      <td>channel_A</td>\n",
       "      <td>female</td>\n",
       "      <td>30-39</td>\n",
       "      <td>2030-05-20</td>\n",
       "      <td>iOS</td>\n",
       "      <td>18</td>\n",
       "      <td>202.0</td>\n",
       "    </tr>\n",
       "    <tr>\n",
       "      <th>4</th>\n",
       "      <td>4b34dfb277abb6ad04dcf6968fe416d0</td>\n",
       "      <td>channel_A</td>\n",
       "      <td>male</td>\n",
       "      <td>30-39</td>\n",
       "      <td>2030-05-20</td>\n",
       "      <td>android</td>\n",
       "      <td>9</td>\n",
       "      <td>197.0</td>\n",
       "    </tr>\n",
       "  </tbody>\n",
       "</table>\n",
       "</div>"
      ],
      "text/plain": [
       "                          user_uuid marketing_channel     sex age_group  \\\n",
       "0  05b0058df377da90c21c585649cbf415         channel_A    male     30-39   \n",
       "1  28b7062943065c84bb902a0c1d018398         channel_B    male     20-29   \n",
       "2  f8c30b791fbe2d6c80585b20fb6fdbe0         channel_A    male     30-39   \n",
       "3  91cd8505d196bea35d48f4f1eacbc106         channel_A  female     30-39   \n",
       "4  4b34dfb277abb6ad04dcf6968fe416d0         channel_A    male     30-39   \n",
       "\n",
       "  date_joined       os  visits  revenue  \n",
       "0  2030-05-10  android      23    304.0  \n",
       "1  2030-05-10  android       5    195.0  \n",
       "2  2030-05-25  android       1     78.0  \n",
       "3  2030-05-20      iOS      18    202.0  \n",
       "4  2030-05-20  android       9    197.0  "
      ]
     },
     "execution_count": 9,
     "metadata": {},
     "output_type": "execute_result"
    }
   ],
   "source": [
    "df.head()"
   ]
  },
  {
   "cell_type": "code",
   "execution_count": 10,
   "id": "607220eb",
   "metadata": {},
   "outputs": [
    {
     "data": {
      "text/plain": [
       "(405085, 8)"
      ]
     },
     "execution_count": 10,
     "metadata": {},
     "output_type": "execute_result"
    }
   ],
   "source": [
    "df.shape"
   ]
  },
  {
   "cell_type": "markdown",
   "id": "2e249667",
   "metadata": {},
   "source": [
    "# "
   ]
  },
  {
   "cell_type": "markdown",
   "id": "fcca99b9",
   "metadata": {},
   "source": [
    "# *Encoding*"
   ]
  },
  {
   "cell_type": "markdown",
   "id": "ba2e573b",
   "metadata": {},
   "source": [
    "### marketing_channel\n",
    "channel_A: 0<br>\n",
    "channel_B: 1"
   ]
  },
  {
   "cell_type": "code",
   "execution_count": 11,
   "id": "2fb32ce3",
   "metadata": {},
   "outputs": [],
   "source": [
    "df['marketing_channel'] = df.marketing_channel.replace('channel_A', 0)\n",
    "df['marketing_channel'] = df.marketing_channel.replace('channel_B', 1)"
   ]
  },
  {
   "cell_type": "markdown",
   "id": "e6459c51",
   "metadata": {},
   "source": [
    "### sex\n",
    "male: 0<br>\n",
    "female: 1"
   ]
  },
  {
   "cell_type": "code",
   "execution_count": 12,
   "id": "4cbcf845",
   "metadata": {},
   "outputs": [],
   "source": [
    "df['sex'] = df.sex.replace('male', 0)\n",
    "df['sex'] = df.sex.replace('female', 1)"
   ]
  },
  {
   "cell_type": "markdown",
   "id": "bc192698",
   "metadata": {},
   "source": [
    "### age_group\n",
    "20-29: 0<br>\n",
    "30-39: 1<br>\n",
    "40-49: 2<br>\n",
    "50-59: 3<br>\n",
    "-99: 4"
   ]
  },
  {
   "cell_type": "code",
   "execution_count": 13,
   "id": "45ca12a2",
   "metadata": {},
   "outputs": [
    {
     "data": {
      "text/plain": [
       "30-39    158146\n",
       "20-29    128978\n",
       "40-49     77151\n",
       "50-59     28413\n",
       "-99        4120\n",
       "Name: age_group, dtype: int64"
      ]
     },
     "execution_count": 13,
     "metadata": {},
     "output_type": "execute_result"
    }
   ],
   "source": [
    "df.age_group.value_counts()"
   ]
  },
  {
   "cell_type": "code",
   "execution_count": 14,
   "id": "a9297c27",
   "metadata": {},
   "outputs": [],
   "source": [
    "df = df[~df['age_group'].isnull()]"
   ]
  },
  {
   "cell_type": "code",
   "execution_count": 15,
   "id": "df551de9",
   "metadata": {},
   "outputs": [],
   "source": [
    "def age_replace(age):\n",
    "    if age == '20-29':\n",
    "        age = 0\n",
    "    elif age == '30-39':\n",
    "        age = 1\n",
    "    elif age == '40-49':\n",
    "        age = 2\n",
    "    elif age == '50-59':\n",
    "        age = 3\n",
    "    elif age == '-99':\n",
    "        age = 4\n",
    "    return int(age)"
   ]
  },
  {
   "cell_type": "code",
   "execution_count": 16,
   "id": "d8688d61",
   "metadata": {},
   "outputs": [],
   "source": [
    "df['age_group'] = df.age_group.apply(age_replace)"
   ]
  },
  {
   "cell_type": "markdown",
   "id": "674ab845",
   "metadata": {},
   "source": [
    "### date_joined\n",
    "~ 2030-01-31 : 0<br>\n",
    "2030-02-01 ~ 2030-02-31: 1<br>\n",
    "2030-03-01 ~ 2030-03-31: 2<br>\n",
    "2030-04-01 ~ 2030-04-31: 3<br>\n",
    "2030-05-01 ~ 2030-05-31: 4"
   ]
  },
  {
   "cell_type": "code",
   "execution_count": 17,
   "id": "98855433",
   "metadata": {},
   "outputs": [],
   "source": [
    "def date_replace(date):\n",
    "    if date <='2030-01-31':\n",
    "        date = 0\n",
    "    elif date >= '2030-02-01' and date <='2030-02-31':\n",
    "        date = 1\n",
    "    elif date >= '2030-03-01' and date <='2030-03-31':\n",
    "        date = 2\n",
    "    elif date >= '2030-04-01' and date <='2030-04-31':\n",
    "        date = 3\n",
    "    elif date >= '2030-05-01' and date <='2030-05-31':\n",
    "        date = 4\n",
    "    return date"
   ]
  },
  {
   "cell_type": "code",
   "execution_count": 18,
   "id": "0d4e9d40",
   "metadata": {},
   "outputs": [],
   "source": [
    "df['date_joined'] = df.date_joined.apply(date_replace)"
   ]
  },
  {
   "cell_type": "markdown",
   "id": "b707a602",
   "metadata": {},
   "source": [
    "### os\n",
    "android: 0<br>\n",
    "iOS: 1"
   ]
  },
  {
   "cell_type": "code",
   "execution_count": 21,
   "id": "004aba87",
   "metadata": {},
   "outputs": [],
   "source": [
    "df['os'] = df.sex.replace('android', 0)\n",
    "df['os'] = df.sex.replace('iOS', 1)"
   ]
  },
  {
   "cell_type": "code",
   "execution_count": 22,
   "id": "377af46f",
   "metadata": {},
   "outputs": [
    {
     "data": {
      "text/html": [
       "<div>\n",
       "<style scoped>\n",
       "    .dataframe tbody tr th:only-of-type {\n",
       "        vertical-align: middle;\n",
       "    }\n",
       "\n",
       "    .dataframe tbody tr th {\n",
       "        vertical-align: top;\n",
       "    }\n",
       "\n",
       "    .dataframe thead th {\n",
       "        text-align: right;\n",
       "    }\n",
       "</style>\n",
       "<table border=\"1\" class=\"dataframe\">\n",
       "  <thead>\n",
       "    <tr style=\"text-align: right;\">\n",
       "      <th></th>\n",
       "      <th>user_uuid</th>\n",
       "      <th>marketing_channel</th>\n",
       "      <th>sex</th>\n",
       "      <th>age_group</th>\n",
       "      <th>date_joined</th>\n",
       "      <th>os</th>\n",
       "      <th>visits</th>\n",
       "      <th>revenue</th>\n",
       "    </tr>\n",
       "  </thead>\n",
       "  <tbody>\n",
       "    <tr>\n",
       "      <th>0</th>\n",
       "      <td>05b0058df377da90c21c585649cbf415</td>\n",
       "      <td>0</td>\n",
       "      <td>0</td>\n",
       "      <td>1</td>\n",
       "      <td>4</td>\n",
       "      <td>0</td>\n",
       "      <td>23</td>\n",
       "      <td>304.0</td>\n",
       "    </tr>\n",
       "    <tr>\n",
       "      <th>1</th>\n",
       "      <td>28b7062943065c84bb902a0c1d018398</td>\n",
       "      <td>1</td>\n",
       "      <td>0</td>\n",
       "      <td>0</td>\n",
       "      <td>4</td>\n",
       "      <td>0</td>\n",
       "      <td>5</td>\n",
       "      <td>195.0</td>\n",
       "    </tr>\n",
       "    <tr>\n",
       "      <th>2</th>\n",
       "      <td>f8c30b791fbe2d6c80585b20fb6fdbe0</td>\n",
       "      <td>0</td>\n",
       "      <td>0</td>\n",
       "      <td>1</td>\n",
       "      <td>4</td>\n",
       "      <td>0</td>\n",
       "      <td>1</td>\n",
       "      <td>78.0</td>\n",
       "    </tr>\n",
       "    <tr>\n",
       "      <th>3</th>\n",
       "      <td>91cd8505d196bea35d48f4f1eacbc106</td>\n",
       "      <td>0</td>\n",
       "      <td>1</td>\n",
       "      <td>1</td>\n",
       "      <td>4</td>\n",
       "      <td>1</td>\n",
       "      <td>18</td>\n",
       "      <td>202.0</td>\n",
       "    </tr>\n",
       "    <tr>\n",
       "      <th>4</th>\n",
       "      <td>4b34dfb277abb6ad04dcf6968fe416d0</td>\n",
       "      <td>0</td>\n",
       "      <td>0</td>\n",
       "      <td>1</td>\n",
       "      <td>4</td>\n",
       "      <td>0</td>\n",
       "      <td>9</td>\n",
       "      <td>197.0</td>\n",
       "    </tr>\n",
       "  </tbody>\n",
       "</table>\n",
       "</div>"
      ],
      "text/plain": [
       "                          user_uuid  marketing_channel  sex  age_group  \\\n",
       "0  05b0058df377da90c21c585649cbf415                  0    0          1   \n",
       "1  28b7062943065c84bb902a0c1d018398                  1    0          0   \n",
       "2  f8c30b791fbe2d6c80585b20fb6fdbe0                  0    0          1   \n",
       "3  91cd8505d196bea35d48f4f1eacbc106                  0    1          1   \n",
       "4  4b34dfb277abb6ad04dcf6968fe416d0                  0    0          1   \n",
       "\n",
       "   date_joined  os  visits  revenue  \n",
       "0            4   0      23    304.0  \n",
       "1            4   0       5    195.0  \n",
       "2            4   0       1     78.0  \n",
       "3            4   1      18    202.0  \n",
       "4            4   0       9    197.0  "
      ]
     },
     "execution_count": 22,
     "metadata": {},
     "output_type": "execute_result"
    }
   ],
   "source": [
    "df.head()"
   ]
  },
  {
   "cell_type": "markdown",
   "id": "5d7b84dc",
   "metadata": {},
   "source": [
    "### data check"
   ]
  },
  {
   "cell_type": "code",
   "execution_count": 23,
   "id": "4f8d64f3",
   "metadata": {},
   "outputs": [
    {
     "data": {
      "text/plain": [
       "0    321485\n",
       "1     75323\n",
       "Name: marketing_channel, dtype: int64"
      ]
     },
     "execution_count": 23,
     "metadata": {},
     "output_type": "execute_result"
    }
   ],
   "source": [
    "df.marketing_channel.value_counts()"
   ]
  },
  {
   "cell_type": "code",
   "execution_count": 24,
   "id": "6a47e1b2",
   "metadata": {},
   "outputs": [
    {
     "data": {
      "text/plain": [
       "0    214185\n",
       "1    182623\n",
       "Name: sex, dtype: int64"
      ]
     },
     "execution_count": 24,
     "metadata": {},
     "output_type": "execute_result"
    }
   ],
   "source": [
    "df.sex.value_counts()"
   ]
  },
  {
   "cell_type": "code",
   "execution_count": 25,
   "id": "8aaf9d78",
   "metadata": {},
   "outputs": [
    {
     "data": {
      "text/plain": [
       "1    158146\n",
       "0    128978\n",
       "2     77151\n",
       "3     28413\n",
       "4      4120\n",
       "Name: age_group, dtype: int64"
      ]
     },
     "execution_count": 25,
     "metadata": {},
     "output_type": "execute_result"
    }
   ],
   "source": [
    "df.age_group.value_counts()"
   ]
  },
  {
   "cell_type": "code",
   "execution_count": 26,
   "id": "364feb1a",
   "metadata": {},
   "outputs": [
    {
     "data": {
      "text/plain": [
       "4    361455\n",
       "3     31502\n",
       "2      3456\n",
       "1       346\n",
       "0        49\n",
       "Name: date_joined, dtype: int64"
      ]
     },
     "execution_count": 26,
     "metadata": {},
     "output_type": "execute_result"
    }
   ],
   "source": [
    "df.date_joined.value_counts()"
   ]
  },
  {
   "cell_type": "code",
   "execution_count": 27,
   "id": "c6dd8248",
   "metadata": {},
   "outputs": [
    {
     "data": {
      "text/plain": [
       "0    214185\n",
       "1    182623\n",
       "Name: os, dtype: int64"
      ]
     },
     "execution_count": 27,
     "metadata": {},
     "output_type": "execute_result"
    }
   ],
   "source": [
    "df.os.value_counts()"
   ]
  },
  {
   "cell_type": "code",
   "execution_count": 28,
   "id": "bfa99f5b",
   "metadata": {},
   "outputs": [
    {
     "data": {
      "text/plain": [
       "(396808, 8)"
      ]
     },
     "execution_count": 28,
     "metadata": {},
     "output_type": "execute_result"
    }
   ],
   "source": [
    "df.shape"
   ]
  },
  {
   "cell_type": "markdown",
   "id": "ae612956",
   "metadata": {},
   "source": [
    "# "
   ]
  },
  {
   "cell_type": "markdown",
   "id": "b4646dcb",
   "metadata": {},
   "source": [
    "# *Data Save*"
   ]
  },
  {
   "cell_type": "code",
   "execution_count": 29,
   "id": "58b1aa95",
   "metadata": {},
   "outputs": [
    {
     "name": "stdout",
     "output_type": "stream",
     "text": [
      "Saved 396808 records\n"
     ]
    }
   ],
   "source": [
    "fm.save('../data/df_users_whole_info.pickle', df)"
   ]
  },
  {
   "cell_type": "code",
   "execution_count": null,
   "id": "e8563ee8",
   "metadata": {},
   "outputs": [],
   "source": []
  }
 ],
 "metadata": {
  "kernelspec": {
   "display_name": "Python 3",
   "language": "python",
   "name": "python3"
  },
  "language_info": {
   "codemirror_mode": {
    "name": "ipython",
    "version": 3
   },
   "file_extension": ".py",
   "mimetype": "text/x-python",
   "name": "python",
   "nbconvert_exporter": "python",
   "pygments_lexer": "ipython3",
   "version": "3.8.10"
  }
 },
 "nbformat": 4,
 "nbformat_minor": 5
}
